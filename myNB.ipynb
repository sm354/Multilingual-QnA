{
 "cells": [
  {
   "cell_type": "markdown",
   "id": "3a77c3fb",
   "metadata": {},
   "source": [
    "### one time installations"
   ]
  },
  {
   "cell_type": "code",
   "execution_count": 1,
   "id": "a73e60a7",
   "metadata": {},
   "outputs": [],
   "source": [
    "# !gdown --id 1pb7gEkctrVrJA79EAIo7H7nuzD6uV1fW\n",
    "# !gdown --id 1oIeAE9HXXKWPcYa-AZ0ht5ef6sKe_Vh_\n",
    "# !gdown --id 10rAuIDvsYR2yDiCqP7GmYGPc-UmtLbJb"
   ]
  },
  {
   "cell_type": "code",
   "execution_count": 2,
   "id": "fd5a3a2b",
   "metadata": {},
   "outputs": [],
   "source": [
    "# !pip install --quiet transformers\n",
    "# !pip install --quiet datasets \n",
    "# !pip install --quiet SentencePiece\n",
    "# !pip install --quiet pytorch-lightning"
   ]
  },
  {
   "cell_type": "markdown",
   "id": "76b18052",
   "metadata": {},
   "source": [
    "### libraries"
   ]
  },
  {
   "cell_type": "code",
   "execution_count": 3,
   "id": "0371301c",
   "metadata": {},
   "outputs": [],
   "source": [
    "import numpy as np\n",
    "import pandas as pd\n",
    "import sklearn\n",
    "import random\n",
    "from sklearn import model_selection\n",
    "\n",
    "import torch\n",
    "import torch.nn as nn\n",
    "import torch.nn.functional as F\n",
    "from torch.utils.data import Dataset, DataLoader\n",
    "\n",
    "from transformers import AutoModelForQuestionAnswering, AutoTokenizer\n",
    "from transformers import Trainer, TrainingArguments"
   ]
  },
  {
   "cell_type": "markdown",
   "id": "ef223314",
   "metadata": {},
   "source": [
    "### hyperparameters "
   ]
  },
  {
   "cell_type": "code",
   "execution_count": 14,
   "id": "15f9b6c1",
   "metadata": {},
   "outputs": [],
   "source": [
    "class hyperparameters:\n",
    "    # seed\n",
    "    seed = 4\n",
    "    \n",
    "    # tokenizer\n",
    "    tokenizer_name = \"deepset/xlm-roberta-large-squad2\" # model_name # CHANGE THIS; TRY XLM-ROBERTA\n",
    "    max_len = 384 # maximum length of context and question in a datapoint\n",
    "    overlap_len = 128 # overlap between two parts of the context when it is split\n",
    "    \n",
    "    # model\n",
    "    model_name = \"deepset/xlm-roberta-large-squad2\"\n",
    "    \n",
    "    batch_size = 16"
   ]
  },
  {
   "cell_type": "code",
   "execution_count": 15,
   "id": "48a6df55",
   "metadata": {},
   "outputs": [],
   "source": [
    "hyperparams = hyperparameters()"
   ]
  },
  {
   "cell_type": "code",
   "execution_count": 16,
   "id": "12b0ffc8",
   "metadata": {},
   "outputs": [
    {
     "name": "stdout",
     "output_type": "stream",
     "text": [
      "available gpu count: 1\n",
      "<torch.cuda.device object at 0x7f53a53f89e8>\n"
     ]
    }
   ],
   "source": [
    "print(\"available gpu count:\", torch.cuda.device_count())\n",
    "for i in range(torch.cuda.device_count()):\n",
    "    print(torch.cuda.device(i))"
   ]
  },
  {
   "cell_type": "markdown",
   "id": "332f3c73",
   "metadata": {},
   "source": [
    "### tokenizer"
   ]
  },
  {
   "cell_type": "code",
   "execution_count": 17,
   "id": "e5a57e04",
   "metadata": {},
   "outputs": [],
   "source": [
    "tokenizer = AutoTokenizer.from_pretrained(hyperparams.tokenizer_name)"
   ]
  },
  {
   "cell_type": "markdown",
   "id": "960e5749",
   "metadata": {},
   "source": [
    "### Raw (data) materials for Chaii"
   ]
  },
  {
   "cell_type": "code",
   "execution_count": 18,
   "id": "9fe08958",
   "metadata": {},
   "outputs": [],
   "source": [
    "chaii_df = pd.read_csv('train.csv', encoding='utf-8')\n",
    "# test_df = pd.read_csv('test.csv')\n",
    "# sample_df = pd.read_csv('sample_submission.csv')\n",
    "# chaii_df = sklearn.utils.shuffle(chaii_df, random_state=4).reset_index(drop=True)"
   ]
  },
  {
   "cell_type": "code",
   "execution_count": 19,
   "id": "34a53892",
   "metadata": {},
   "outputs": [],
   "source": [
    "train_df, val_df = model_selection.train_test_split(chaii_df, test_size=0.2, random_state=hyperparams.seed)"
   ]
  },
  {
   "cell_type": "code",
   "execution_count": 20,
   "id": "aad111fb",
   "metadata": {},
   "outputs": [],
   "source": [
    "train_df = train_df.reset_index(drop=True)\n",
    "val_df = val_df.reset_index(drop=True)"
   ]
  },
  {
   "cell_type": "code",
   "execution_count": 21,
   "id": "5cbc28e4",
   "metadata": {},
   "outputs": [
    {
     "data": {
      "text/html": [
       "<div>\n",
       "<style scoped>\n",
       "    .dataframe tbody tr th:only-of-type {\n",
       "        vertical-align: middle;\n",
       "    }\n",
       "\n",
       "    .dataframe tbody tr th {\n",
       "        vertical-align: top;\n",
       "    }\n",
       "\n",
       "    .dataframe thead th {\n",
       "        text-align: right;\n",
       "    }\n",
       "</style>\n",
       "<table border=\"1\" class=\"dataframe\">\n",
       "  <thead>\n",
       "    <tr style=\"text-align: right;\">\n",
       "      <th></th>\n",
       "      <th>id</th>\n",
       "      <th>context</th>\n",
       "      <th>question</th>\n",
       "      <th>answer_text</th>\n",
       "      <th>answer_start</th>\n",
       "      <th>language</th>\n",
       "    </tr>\n",
       "  </thead>\n",
       "  <tbody>\n",
       "    <tr>\n",
       "      <th>0</th>\n",
       "      <td>5179ed725</td>\n",
       "      <td>ரேடியம் (Radium) என்பது Ra என்ற மூலக்கூற்று வா...</td>\n",
       "      <td>ரேடியம் எப்போது கண்டுபிடிக்கப்பட்டது?</td>\n",
       "      <td>1898</td>\n",
       "      <td>975</td>\n",
       "      <td>tamil</td>\n",
       "    </tr>\n",
       "    <tr>\n",
       "      <th>1</th>\n",
       "      <td>b028b54cf</td>\n",
       "      <td>हेलेन एडम्स केलर (27 जून 1880 - 1 जून 1968) एक...</td>\n",
       "      <td>हेलेन केलर की मृत्यु किस वर्ष में हुई थी?</td>\n",
       "      <td>1968</td>\n",
       "      <td>38</td>\n",
       "      <td>hindi</td>\n",
       "    </tr>\n",
       "    <tr>\n",
       "      <th>2</th>\n",
       "      <td>86eff66f2</td>\n",
       "      <td>फ़ूड एण्ड ड्रग एडमिनिस्ट्रेशन (FDA या USFDA) स...</td>\n",
       "      <td>खाद्य एवं औषधि प्रशासन का मुख्यालय कहाँ पर है?</td>\n",
       "      <td>सिल्वर स्प्रिंग, मैरीलैंड</td>\n",
       "      <td>1092</td>\n",
       "      <td>hindi</td>\n",
       "    </tr>\n",
       "    <tr>\n",
       "      <th>3</th>\n",
       "      <td>6e76514a5</td>\n",
       "      <td>क़ुस्तुंतुनिया या कांस्टैंटिनोपुल (यूनानी: Κων...</td>\n",
       "      <td>क़ुस्तुंतुनिया शहर की स्थापना किस सम्राट ने की...</td>\n",
       "      <td>कोन्स्टान्टिन महान</td>\n",
       "      <td>573</td>\n",
       "      <td>hindi</td>\n",
       "    </tr>\n",
       "    <tr>\n",
       "      <th>4</th>\n",
       "      <td>9658a986b</td>\n",
       "      <td>दिल्ली समुद्रतल से ७०० से १००० फीट की ऊँचाई पर...</td>\n",
       "      <td>दिल्ली का क्षेत्रफल कितना है?</td>\n",
       "      <td>१,४८४ वर्ग किलोमीटर</td>\n",
       "      <td>326</td>\n",
       "      <td>hindi</td>\n",
       "    </tr>\n",
       "    <tr>\n",
       "      <th>...</th>\n",
       "      <td>...</td>\n",
       "      <td>...</td>\n",
       "      <td>...</td>\n",
       "      <td>...</td>\n",
       "      <td>...</td>\n",
       "      <td>...</td>\n",
       "    </tr>\n",
       "    <tr>\n",
       "      <th>218</th>\n",
       "      <td>481ebd62d</td>\n",
       "      <td>Rzeczpospolita Polska Republic of Poland पोलैं...</td>\n",
       "      <td>पोलैंड का सबसे बड़ा शहर कौनसा है?</td>\n",
       "      <td>वारसा</td>\n",
       "      <td>192</td>\n",
       "      <td>hindi</td>\n",
       "    </tr>\n",
       "    <tr>\n",
       "      <th>219</th>\n",
       "      <td>934090840</td>\n",
       "      <td>தமிழ்த்திரையுலகின் முதல் பேசும்படம் \\n1931 ஆம்...</td>\n",
       "      <td>ஹரிதாஸ் திரைப்படம் எந்த ஆண்டு வெளியானது?</td>\n",
       "      <td>1944</td>\n",
       "      <td>181</td>\n",
       "      <td>tamil</td>\n",
       "    </tr>\n",
       "    <tr>\n",
       "      <th>220</th>\n",
       "      <td>80a6914c2</td>\n",
       "      <td>மும்பை பங்குச் சந்தை (Bombay Stock Exchange) ஆ...</td>\n",
       "      <td>பாம்பே பங்குச் சந்தை எப்போது நிறுவப்பட்டது?</td>\n",
       "      <td>1875</td>\n",
       "      <td>147</td>\n",
       "      <td>tamil</td>\n",
       "    </tr>\n",
       "    <tr>\n",
       "      <th>221</th>\n",
       "      <td>88c1aa393</td>\n",
       "      <td>கலைக்களஞ்சியம் (ஒலிப்பு) (Encyclopedia)[1] என்...</td>\n",
       "      <td>டெனிசு டிடேரோ எந்த மொழியில் கலைக்களஞ்சியம் வெள...</td>\n",
       "      <td>பிரெஞ்சு</td>\n",
       "      <td>480</td>\n",
       "      <td>tamil</td>\n",
       "    </tr>\n",
       "    <tr>\n",
       "      <th>222</th>\n",
       "      <td>4563d942b</td>\n",
       "      <td>यह लेख इंटरनेट विश्वकोश के बारे में है। विकिपी...</td>\n",
       "      <td>विकिपीडिया' विश्वकोश की उद्घाटन तिथि क्या थी?</td>\n",
       "      <td>15 जनवरी 2001</td>\n",
       "      <td>3209</td>\n",
       "      <td>hindi</td>\n",
       "    </tr>\n",
       "  </tbody>\n",
       "</table>\n",
       "<p>223 rows × 6 columns</p>\n",
       "</div>"
      ],
      "text/plain": [
       "            id                                            context  \\\n",
       "0    5179ed725  ரேடியம் (Radium) என்பது Ra என்ற மூலக்கூற்று வா...   \n",
       "1    b028b54cf  हेलेन एडम्स केलर (27 जून 1880 - 1 जून 1968) एक...   \n",
       "2    86eff66f2  फ़ूड एण्ड ड्रग एडमिनिस्ट्रेशन (FDA या USFDA) स...   \n",
       "3    6e76514a5  क़ुस्तुंतुनिया या कांस्टैंटिनोपुल (यूनानी: Κων...   \n",
       "4    9658a986b  दिल्ली समुद्रतल से ७०० से १००० फीट की ऊँचाई पर...   \n",
       "..         ...                                                ...   \n",
       "218  481ebd62d  Rzeczpospolita Polska Republic of Poland पोलैं...   \n",
       "219  934090840  தமிழ்த்திரையுலகின் முதல் பேசும்படம் \\n1931 ஆம்...   \n",
       "220  80a6914c2  மும்பை பங்குச் சந்தை (Bombay Stock Exchange) ஆ...   \n",
       "221  88c1aa393  கலைக்களஞ்சியம் (ஒலிப்பு) (Encyclopedia)[1] என்...   \n",
       "222  4563d942b  यह लेख इंटरनेट विश्वकोश के बारे में है। विकिपी...   \n",
       "\n",
       "                                              question  \\\n",
       "0                ரேடியம் எப்போது கண்டுபிடிக்கப்பட்டது?   \n",
       "1            हेलेन केलर की मृत्यु किस वर्ष में हुई थी?   \n",
       "2       खाद्य एवं औषधि प्रशासन का मुख्यालय कहाँ पर है?   \n",
       "3    क़ुस्तुंतुनिया शहर की स्थापना किस सम्राट ने की...   \n",
       "4                        दिल्ली का क्षेत्रफल कितना है?   \n",
       "..                                                 ...   \n",
       "218                   पोलैंड का सबसे बड़ा शहर कौनसा है?   \n",
       "219           ஹரிதாஸ் திரைப்படம் எந்த ஆண்டு வெளியானது?   \n",
       "220        பாம்பே பங்குச் சந்தை எப்போது நிறுவப்பட்டது?   \n",
       "221  டெனிசு டிடேரோ எந்த மொழியில் கலைக்களஞ்சியம் வெள...   \n",
       "222      विकिपीडिया' विश्वकोश की उद्घाटन तिथि क्या थी?   \n",
       "\n",
       "                   answer_text  answer_start language  \n",
       "0                         1898           975    tamil  \n",
       "1                         1968            38    hindi  \n",
       "2    सिल्वर स्प्रिंग, मैरीलैंड          1092    hindi  \n",
       "3           कोन्स्टान्टिन महान           573    hindi  \n",
       "4          १,४८४ वर्ग किलोमीटर           326    hindi  \n",
       "..                         ...           ...      ...  \n",
       "218                      वारसा           192    hindi  \n",
       "219                       1944           181    tamil  \n",
       "220                       1875           147    tamil  \n",
       "221                   பிரெஞ்சு           480    tamil  \n",
       "222              15 जनवरी 2001          3209    hindi  \n",
       "\n",
       "[223 rows x 6 columns]"
      ]
     },
     "execution_count": 21,
     "metadata": {},
     "output_type": "execute_result"
    }
   ],
   "source": [
    "val_df"
   ]
  },
  {
   "cell_type": "markdown",
   "id": "1ac9f67d",
   "metadata": {},
   "source": [
    "### Data pipeline"
   ]
  },
  {
   "cell_type": "code",
   "execution_count": 22,
   "id": "8de06599",
   "metadata": {},
   "outputs": [],
   "source": [
    "def prepare_chaii(data_df, tokenizer):\n",
    "    # prepare_chaii takes in raw data and returns tokenized data \n",
    "    # along with position of first token and last token in the answer_text\n",
    "    \n",
    "    # strip trailing and leading whitespaces in context, question, and (answer_text)?\n",
    "    data_df.loc[:, 'context'] = data_df.loc[:, 'context'].apply(lambda sen : str(sen).strip())\n",
    "    data_df.loc[:, 'question'] = data_df.loc[:, 'question'].apply(lambda sen : str(sen).strip())\n",
    "    data_df.loc[:, 'answer_text'] = data_df.loc[:, 'answer_text'].apply(lambda sen : str(sen).strip())\n",
    "    \n",
    "    data_tok = tokenizer(\n",
    "        list(data_df['question']), list(data_df['context']),\n",
    "        max_length=hyperparams.max_len, \n",
    "        truncation='only_second',\n",
    "        stride=hyperparams.overlap_len,\n",
    "        return_overflowing_tokens=True,\n",
    "        return_offsets_mapping=True,\n",
    "        padding=True,\n",
    "    )\n",
    "    \n",
    "    # data_df contains original raw data having question, context\n",
    "    # data_tok contains tokenized data, where context might have split into multiple sentences \n",
    "    # data_tok is a dict, containing keys : dict_keys(['input_ids', 'attention_mask', 'offset_mapping', 'overflow_to_sample_mapping'])\n",
    "    # every value is a list, and no tensors here\n",
    "    \n",
    "    # adding two more keys that will contain the position of first token and last token in the answer_text\n",
    "    data_tok['start_positions'], data_tok['end_positions'] = [], []\n",
    "    \n",
    "    n_sents = len(data_tok['input_ids'])\n",
    "    map_id_sent2context = data_tok['overflow_to_sample_mapping'] # id means index! since input_ids means various inputs to the model\n",
    "    map_offsets = data_tok['offset_mapping']\n",
    "    assert len(map_offsets) == len(map_id_sent2context) == n_sents\n",
    "    \n",
    "    for input_id in range(n_sents):\n",
    "        sent = data_tok['input_ids'][input_id]\n",
    "        \n",
    "        # get the answer_start and answer_text for this input_id using the id in data_df\n",
    "        context_id = map_id_sent2context[input_id]\n",
    "        answer_text = data_df.loc[context_id, 'answer_text']\n",
    "        answer_start = data_df.loc[context_id, 'answer_start']\n",
    "        answer_end = answer_start + len(answer_text) # will use this in next code block\n",
    "        \n",
    "        # check whether the answer is present in the current input_id or not using offsets\n",
    "        qn_context_id = data_tok.sequence_ids(input_id)\n",
    "        \n",
    "            # first: get the start_idx_token and end_idx_token of context\n",
    "        start_idx_token = qn_context_id.index(1)\n",
    "        end_idx_token = len(qn_context_id) - qn_context_id[::-1].index(1) - 1\n",
    "        \n",
    "            # second: use the offsets for input_id to find if answer_start and answer_end are inside this chunk of context or not\n",
    "        offset_map = map_offsets[input_id]\n",
    "\n",
    "        if answer_start >= offset_map[start_idx_token][0] and answer_end <= offset_map[end_idx_token][1]:\n",
    "            # now finally get the idx_token for the first and last token in the answer_text\n",
    "            while answer_start >= offset_map[start_idx_token][0] and start_idx_token < len(sent):\n",
    "                start_idx_token += 1\n",
    "            while answer_end <= offset_map[end_idx_token][1]:\n",
    "                end_idx_token -= 1\n",
    "            \n",
    "            data_tok['start_positions'].append(start_idx_token - 1)\n",
    "            data_tok['end_positions'].append(end_idx_token + 1)\n",
    "        \n",
    "        else:\n",
    "            cls_token_idx = sent.index(tokenizer.cls_token_id)\n",
    "            assert cls_token_idx == 0\n",
    "            data_tok['start_positions'].append(0) # cls token index\n",
    "            data_tok['end_positions'].append(0) # cls token index\n",
    "\n",
    "    return data_tok     "
   ]
  },
  {
   "cell_type": "code",
   "execution_count": 27,
   "id": "e6d0c33b",
   "metadata": {},
   "outputs": [],
   "source": [
    "class chaii_ka_data(Dataset):\n",
    "    def __init__(self, data_df, tokenizer, train=True):\n",
    "        super(chaii_ka_data, self).__init__()\n",
    "        '''\n",
    "            train = True means train, train = False means val set; test = True means test set (without labels)\n",
    "            data_df is the pandas dataframe containing context, question, ...        \n",
    "        '''\n",
    "        \n",
    "        # tokenize data samples context;question, and create new samples if overflow\n",
    "        # we need to do this apriori (and not in __getitem__ directly) because a datasample may create more samples upon tokenization\n",
    "        self.reqd_keys = ['input_ids', 'attention_mask', 'start_positions', 'end_positions']\n",
    "        self.data_tok = prepare_chaii(data_df, tokenizer)\n",
    "    \n",
    "    def __getitem__(self, input_id): # index is input_id as used in prepare_chaii()\n",
    "        # sent = self.data_tok['input_ids'][input_id]\n",
    "        # att_mask = self.data_tok['attention_mask'][input_id]\n",
    "        # offset_map = self.data_tok['offset_mapping'][input_id]\n",
    "        # start_idx_tok = self.data_tok['start_positions'][input_id]\n",
    "        # end_idx_tok = self.data_tok['end_positions'][input_id]\n",
    "        \n",
    "        return {k: torch.tensor(v[input_id], dtype=torch.long) for k,v in self.data_tok.items() if k in self.reqd_keys}\n",
    "    \n",
    "    def __len__(self):\n",
    "        return len(self.data_tok['input_ids'])"
   ]
  },
  {
   "cell_type": "code",
   "execution_count": 28,
   "id": "4f5a75b9",
   "metadata": {},
   "outputs": [],
   "source": [
    "trainset = chaii_ka_data(train_df, tokenizer)\n",
    "valset = chaii_ka_data(val_df, tokenizer)"
   ]
  },
  {
   "cell_type": "code",
   "execution_count": null,
   "id": "9a3e4c70",
   "metadata": {},
   "outputs": [],
   "source": []
  },
  {
   "cell_type": "markdown",
   "id": "3970894d",
   "metadata": {},
   "source": [
    "### model"
   ]
  },
  {
   "cell_type": "code",
   "execution_count": 25,
   "id": "6082500c",
   "metadata": {},
   "outputs": [],
   "source": [
    "model = AutoModelForQuestionAnswering.from_pretrained(hyperparams.model_name)"
   ]
  },
  {
   "cell_type": "markdown",
   "id": "bd2dc2a2",
   "metadata": {},
   "source": [
    "### training"
   ]
  },
  {
   "cell_type": "code",
   "execution_count": 29,
   "id": "ad261610",
   "metadata": {
    "scrolled": true
   },
   "outputs": [
    {
     "name": "stderr",
     "output_type": "stream",
     "text": [
      "PyTorch: setting up devices\n",
      "The default value for the training argument `--report_to` will change in v5 (from all installed integrations to none). In v5, you will need to use `--report_to all` to get the same behavior as now. You should start updating your code and make this info disappear :-).\n",
      "***** Running training *****\n",
      "  Num examples = 11783\n",
      "  Num Epochs = 3\n",
      "  Instantaneous batch size per device = 16\n",
      "  Total train batch size (w. parallel, distributed & accumulation) = 16\n",
      "  Gradient Accumulation steps = 1\n",
      "  Total optimization steps = 2211\n"
     ]
    },
    {
     "ename": "RuntimeError",
     "evalue": "CUDA out of memory. Tried to allocate 144.00 MiB (GPU 0; 10.92 GiB total capacity; 9.99 GiB already allocated; 143.38 MiB free; 10.01 GiB reserved in total by PyTorch)",
     "output_type": "error",
     "traceback": [
      "\u001b[0;31m---------------------------------------------------------------------------\u001b[0m",
      "\u001b[0;31mRuntimeError\u001b[0m                              Traceback (most recent call last)",
      "\u001b[0;32m<ipython-input-29-5c639aee69e9>\u001b[0m in \u001b[0;36m<module>\u001b[0;34m\u001b[0m\n\u001b[1;32m     24\u001b[0m )\n\u001b[1;32m     25\u001b[0m \u001b[0;34m\u001b[0m\u001b[0m\n\u001b[0;32m---> 26\u001b[0;31m \u001b[0mtrainer\u001b[0m\u001b[0;34m.\u001b[0m\u001b[0mtrain\u001b[0m\u001b[0;34m(\u001b[0m\u001b[0;34m)\u001b[0m\u001b[0;34m\u001b[0m\u001b[0;34m\u001b[0m\u001b[0m\n\u001b[0m",
      "\u001b[0;32m~/anaconda3/envs/nlp/lib/python3.6/site-packages/transformers/trainer.py\u001b[0m in \u001b[0;36mtrain\u001b[0;34m(self, resume_from_checkpoint, trial, ignore_keys_for_eval, **kwargs)\u001b[0m\n\u001b[1;32m   1314\u001b[0m                         \u001b[0mtr_loss_step\u001b[0m \u001b[0;34m=\u001b[0m \u001b[0mself\u001b[0m\u001b[0;34m.\u001b[0m\u001b[0mtraining_step\u001b[0m\u001b[0;34m(\u001b[0m\u001b[0mmodel\u001b[0m\u001b[0;34m,\u001b[0m \u001b[0minputs\u001b[0m\u001b[0;34m)\u001b[0m\u001b[0;34m\u001b[0m\u001b[0;34m\u001b[0m\u001b[0m\n\u001b[1;32m   1315\u001b[0m                 \u001b[0;32melse\u001b[0m\u001b[0;34m:\u001b[0m\u001b[0;34m\u001b[0m\u001b[0;34m\u001b[0m\u001b[0m\n\u001b[0;32m-> 1316\u001b[0;31m                     \u001b[0mtr_loss_step\u001b[0m \u001b[0;34m=\u001b[0m \u001b[0mself\u001b[0m\u001b[0;34m.\u001b[0m\u001b[0mtraining_step\u001b[0m\u001b[0;34m(\u001b[0m\u001b[0mmodel\u001b[0m\u001b[0;34m,\u001b[0m \u001b[0minputs\u001b[0m\u001b[0;34m)\u001b[0m\u001b[0;34m\u001b[0m\u001b[0;34m\u001b[0m\u001b[0m\n\u001b[0m\u001b[1;32m   1317\u001b[0m \u001b[0;34m\u001b[0m\u001b[0m\n\u001b[1;32m   1318\u001b[0m                 if (\n",
      "\u001b[0;32m~/anaconda3/envs/nlp/lib/python3.6/site-packages/transformers/trainer.py\u001b[0m in \u001b[0;36mtraining_step\u001b[0;34m(self, model, inputs)\u001b[0m\n\u001b[1;32m   1847\u001b[0m                 \u001b[0mloss\u001b[0m \u001b[0;34m=\u001b[0m \u001b[0mself\u001b[0m\u001b[0;34m.\u001b[0m\u001b[0mcompute_loss\u001b[0m\u001b[0;34m(\u001b[0m\u001b[0mmodel\u001b[0m\u001b[0;34m,\u001b[0m \u001b[0minputs\u001b[0m\u001b[0;34m)\u001b[0m\u001b[0;34m\u001b[0m\u001b[0;34m\u001b[0m\u001b[0m\n\u001b[1;32m   1848\u001b[0m         \u001b[0;32melse\u001b[0m\u001b[0;34m:\u001b[0m\u001b[0;34m\u001b[0m\u001b[0;34m\u001b[0m\u001b[0m\n\u001b[0;32m-> 1849\u001b[0;31m             \u001b[0mloss\u001b[0m \u001b[0;34m=\u001b[0m \u001b[0mself\u001b[0m\u001b[0;34m.\u001b[0m\u001b[0mcompute_loss\u001b[0m\u001b[0;34m(\u001b[0m\u001b[0mmodel\u001b[0m\u001b[0;34m,\u001b[0m \u001b[0minputs\u001b[0m\u001b[0;34m)\u001b[0m\u001b[0;34m\u001b[0m\u001b[0;34m\u001b[0m\u001b[0m\n\u001b[0m\u001b[1;32m   1850\u001b[0m \u001b[0;34m\u001b[0m\u001b[0m\n\u001b[1;32m   1851\u001b[0m         \u001b[0;32mif\u001b[0m \u001b[0mself\u001b[0m\u001b[0;34m.\u001b[0m\u001b[0margs\u001b[0m\u001b[0;34m.\u001b[0m\u001b[0mn_gpu\u001b[0m \u001b[0;34m>\u001b[0m \u001b[0;36m1\u001b[0m\u001b[0;34m:\u001b[0m\u001b[0;34m\u001b[0m\u001b[0;34m\u001b[0m\u001b[0m\n",
      "\u001b[0;32m~/anaconda3/envs/nlp/lib/python3.6/site-packages/transformers/trainer.py\u001b[0m in \u001b[0;36mcompute_loss\u001b[0;34m(self, model, inputs, return_outputs)\u001b[0m\n\u001b[1;32m   1879\u001b[0m         \u001b[0;32melse\u001b[0m\u001b[0;34m:\u001b[0m\u001b[0;34m\u001b[0m\u001b[0;34m\u001b[0m\u001b[0m\n\u001b[1;32m   1880\u001b[0m             \u001b[0mlabels\u001b[0m \u001b[0;34m=\u001b[0m \u001b[0;32mNone\u001b[0m\u001b[0;34m\u001b[0m\u001b[0;34m\u001b[0m\u001b[0m\n\u001b[0;32m-> 1881\u001b[0;31m         \u001b[0moutputs\u001b[0m \u001b[0;34m=\u001b[0m \u001b[0mmodel\u001b[0m\u001b[0;34m(\u001b[0m\u001b[0;34m**\u001b[0m\u001b[0minputs\u001b[0m\u001b[0;34m)\u001b[0m\u001b[0;34m\u001b[0m\u001b[0;34m\u001b[0m\u001b[0m\n\u001b[0m\u001b[1;32m   1882\u001b[0m         \u001b[0;31m# Save past state if it exists\u001b[0m\u001b[0;34m\u001b[0m\u001b[0;34m\u001b[0m\u001b[0;34m\u001b[0m\u001b[0m\n\u001b[1;32m   1883\u001b[0m         \u001b[0;31m# TODO: this needs to be fixed and made cleaner later.\u001b[0m\u001b[0;34m\u001b[0m\u001b[0;34m\u001b[0m\u001b[0;34m\u001b[0m\u001b[0m\n",
      "\u001b[0;32m~/anaconda3/envs/nlp/lib/python3.6/site-packages/torch/nn/modules/module.py\u001b[0m in \u001b[0;36m_call_impl\u001b[0;34m(self, *input, **kwargs)\u001b[0m\n\u001b[1;32m   1049\u001b[0m         if not (self._backward_hooks or self._forward_hooks or self._forward_pre_hooks or _global_backward_hooks\n\u001b[1;32m   1050\u001b[0m                 or _global_forward_hooks or _global_forward_pre_hooks):\n\u001b[0;32m-> 1051\u001b[0;31m             \u001b[0;32mreturn\u001b[0m \u001b[0mforward_call\u001b[0m\u001b[0;34m(\u001b[0m\u001b[0;34m*\u001b[0m\u001b[0minput\u001b[0m\u001b[0;34m,\u001b[0m \u001b[0;34m**\u001b[0m\u001b[0mkwargs\u001b[0m\u001b[0;34m)\u001b[0m\u001b[0;34m\u001b[0m\u001b[0;34m\u001b[0m\u001b[0m\n\u001b[0m\u001b[1;32m   1052\u001b[0m         \u001b[0;31m# Do not call functions when jit is used\u001b[0m\u001b[0;34m\u001b[0m\u001b[0;34m\u001b[0m\u001b[0;34m\u001b[0m\u001b[0m\n\u001b[1;32m   1053\u001b[0m         \u001b[0mfull_backward_hooks\u001b[0m\u001b[0;34m,\u001b[0m \u001b[0mnon_full_backward_hooks\u001b[0m \u001b[0;34m=\u001b[0m \u001b[0;34m[\u001b[0m\u001b[0;34m]\u001b[0m\u001b[0;34m,\u001b[0m \u001b[0;34m[\u001b[0m\u001b[0;34m]\u001b[0m\u001b[0;34m\u001b[0m\u001b[0;34m\u001b[0m\u001b[0m\n",
      "\u001b[0;32m~/anaconda3/envs/nlp/lib/python3.6/site-packages/transformers/models/roberta/modeling_roberta.py\u001b[0m in \u001b[0;36mforward\u001b[0;34m(self, input_ids, attention_mask, token_type_ids, position_ids, head_mask, inputs_embeds, start_positions, end_positions, output_attentions, output_hidden_states, return_dict)\u001b[0m\n\u001b[1;32m   1515\u001b[0m             \u001b[0moutput_attentions\u001b[0m\u001b[0;34m=\u001b[0m\u001b[0moutput_attentions\u001b[0m\u001b[0;34m,\u001b[0m\u001b[0;34m\u001b[0m\u001b[0;34m\u001b[0m\u001b[0m\n\u001b[1;32m   1516\u001b[0m             \u001b[0moutput_hidden_states\u001b[0m\u001b[0;34m=\u001b[0m\u001b[0moutput_hidden_states\u001b[0m\u001b[0;34m,\u001b[0m\u001b[0;34m\u001b[0m\u001b[0;34m\u001b[0m\u001b[0m\n\u001b[0;32m-> 1517\u001b[0;31m             \u001b[0mreturn_dict\u001b[0m\u001b[0;34m=\u001b[0m\u001b[0mreturn_dict\u001b[0m\u001b[0;34m,\u001b[0m\u001b[0;34m\u001b[0m\u001b[0;34m\u001b[0m\u001b[0m\n\u001b[0m\u001b[1;32m   1518\u001b[0m         )\n\u001b[1;32m   1519\u001b[0m \u001b[0;34m\u001b[0m\u001b[0m\n",
      "\u001b[0;32m~/anaconda3/envs/nlp/lib/python3.6/site-packages/torch/nn/modules/module.py\u001b[0m in \u001b[0;36m_call_impl\u001b[0;34m(self, *input, **kwargs)\u001b[0m\n\u001b[1;32m   1049\u001b[0m         if not (self._backward_hooks or self._forward_hooks or self._forward_pre_hooks or _global_backward_hooks\n\u001b[1;32m   1050\u001b[0m                 or _global_forward_hooks or _global_forward_pre_hooks):\n\u001b[0;32m-> 1051\u001b[0;31m             \u001b[0;32mreturn\u001b[0m \u001b[0mforward_call\u001b[0m\u001b[0;34m(\u001b[0m\u001b[0;34m*\u001b[0m\u001b[0minput\u001b[0m\u001b[0;34m,\u001b[0m \u001b[0;34m**\u001b[0m\u001b[0mkwargs\u001b[0m\u001b[0;34m)\u001b[0m\u001b[0;34m\u001b[0m\u001b[0;34m\u001b[0m\u001b[0m\n\u001b[0m\u001b[1;32m   1052\u001b[0m         \u001b[0;31m# Do not call functions when jit is used\u001b[0m\u001b[0;34m\u001b[0m\u001b[0;34m\u001b[0m\u001b[0;34m\u001b[0m\u001b[0m\n\u001b[1;32m   1053\u001b[0m         \u001b[0mfull_backward_hooks\u001b[0m\u001b[0;34m,\u001b[0m \u001b[0mnon_full_backward_hooks\u001b[0m \u001b[0;34m=\u001b[0m \u001b[0;34m[\u001b[0m\u001b[0;34m]\u001b[0m\u001b[0;34m,\u001b[0m \u001b[0;34m[\u001b[0m\u001b[0;34m]\u001b[0m\u001b[0;34m\u001b[0m\u001b[0;34m\u001b[0m\u001b[0m\n",
      "\u001b[0;32m~/anaconda3/envs/nlp/lib/python3.6/site-packages/transformers/models/roberta/modeling_roberta.py\u001b[0m in \u001b[0;36mforward\u001b[0;34m(self, input_ids, attention_mask, token_type_ids, position_ids, head_mask, inputs_embeds, encoder_hidden_states, encoder_attention_mask, past_key_values, use_cache, output_attentions, output_hidden_states, return_dict)\u001b[0m\n\u001b[1;32m    856\u001b[0m             \u001b[0moutput_attentions\u001b[0m\u001b[0;34m=\u001b[0m\u001b[0moutput_attentions\u001b[0m\u001b[0;34m,\u001b[0m\u001b[0;34m\u001b[0m\u001b[0;34m\u001b[0m\u001b[0m\n\u001b[1;32m    857\u001b[0m             \u001b[0moutput_hidden_states\u001b[0m\u001b[0;34m=\u001b[0m\u001b[0moutput_hidden_states\u001b[0m\u001b[0;34m,\u001b[0m\u001b[0;34m\u001b[0m\u001b[0;34m\u001b[0m\u001b[0m\n\u001b[0;32m--> 858\u001b[0;31m             \u001b[0mreturn_dict\u001b[0m\u001b[0;34m=\u001b[0m\u001b[0mreturn_dict\u001b[0m\u001b[0;34m,\u001b[0m\u001b[0;34m\u001b[0m\u001b[0;34m\u001b[0m\u001b[0m\n\u001b[0m\u001b[1;32m    859\u001b[0m         )\n\u001b[1;32m    860\u001b[0m         \u001b[0msequence_output\u001b[0m \u001b[0;34m=\u001b[0m \u001b[0mencoder_outputs\u001b[0m\u001b[0;34m[\u001b[0m\u001b[0;36m0\u001b[0m\u001b[0;34m]\u001b[0m\u001b[0;34m\u001b[0m\u001b[0;34m\u001b[0m\u001b[0m\n",
      "\u001b[0;32m~/anaconda3/envs/nlp/lib/python3.6/site-packages/torch/nn/modules/module.py\u001b[0m in \u001b[0;36m_call_impl\u001b[0;34m(self, *input, **kwargs)\u001b[0m\n\u001b[1;32m   1049\u001b[0m         if not (self._backward_hooks or self._forward_hooks or self._forward_pre_hooks or _global_backward_hooks\n\u001b[1;32m   1050\u001b[0m                 or _global_forward_hooks or _global_forward_pre_hooks):\n\u001b[0;32m-> 1051\u001b[0;31m             \u001b[0;32mreturn\u001b[0m \u001b[0mforward_call\u001b[0m\u001b[0;34m(\u001b[0m\u001b[0;34m*\u001b[0m\u001b[0minput\u001b[0m\u001b[0;34m,\u001b[0m \u001b[0;34m**\u001b[0m\u001b[0mkwargs\u001b[0m\u001b[0;34m)\u001b[0m\u001b[0;34m\u001b[0m\u001b[0;34m\u001b[0m\u001b[0m\n\u001b[0m\u001b[1;32m   1052\u001b[0m         \u001b[0;31m# Do not call functions when jit is used\u001b[0m\u001b[0;34m\u001b[0m\u001b[0;34m\u001b[0m\u001b[0;34m\u001b[0m\u001b[0m\n\u001b[1;32m   1053\u001b[0m         \u001b[0mfull_backward_hooks\u001b[0m\u001b[0;34m,\u001b[0m \u001b[0mnon_full_backward_hooks\u001b[0m \u001b[0;34m=\u001b[0m \u001b[0;34m[\u001b[0m\u001b[0;34m]\u001b[0m\u001b[0;34m,\u001b[0m \u001b[0;34m[\u001b[0m\u001b[0;34m]\u001b[0m\u001b[0;34m\u001b[0m\u001b[0;34m\u001b[0m\u001b[0m\n",
      "\u001b[0;32m~/anaconda3/envs/nlp/lib/python3.6/site-packages/transformers/models/roberta/modeling_roberta.py\u001b[0m in \u001b[0;36mforward\u001b[0;34m(self, hidden_states, attention_mask, head_mask, encoder_hidden_states, encoder_attention_mask, past_key_values, use_cache, output_attentions, output_hidden_states, return_dict)\u001b[0m\n\u001b[1;32m    527\u001b[0m                     \u001b[0mencoder_attention_mask\u001b[0m\u001b[0;34m,\u001b[0m\u001b[0;34m\u001b[0m\u001b[0;34m\u001b[0m\u001b[0m\n\u001b[1;32m    528\u001b[0m                     \u001b[0mpast_key_value\u001b[0m\u001b[0;34m,\u001b[0m\u001b[0;34m\u001b[0m\u001b[0;34m\u001b[0m\u001b[0m\n\u001b[0;32m--> 529\u001b[0;31m                     \u001b[0moutput_attentions\u001b[0m\u001b[0;34m,\u001b[0m\u001b[0;34m\u001b[0m\u001b[0;34m\u001b[0m\u001b[0m\n\u001b[0m\u001b[1;32m    530\u001b[0m                 )\n\u001b[1;32m    531\u001b[0m \u001b[0;34m\u001b[0m\u001b[0m\n",
      "\u001b[0;32m~/anaconda3/envs/nlp/lib/python3.6/site-packages/torch/nn/modules/module.py\u001b[0m in \u001b[0;36m_call_impl\u001b[0;34m(self, *input, **kwargs)\u001b[0m\n\u001b[1;32m   1049\u001b[0m         if not (self._backward_hooks or self._forward_hooks or self._forward_pre_hooks or _global_backward_hooks\n\u001b[1;32m   1050\u001b[0m                 or _global_forward_hooks or _global_forward_pre_hooks):\n\u001b[0;32m-> 1051\u001b[0;31m             \u001b[0;32mreturn\u001b[0m \u001b[0mforward_call\u001b[0m\u001b[0;34m(\u001b[0m\u001b[0;34m*\u001b[0m\u001b[0minput\u001b[0m\u001b[0;34m,\u001b[0m \u001b[0;34m**\u001b[0m\u001b[0mkwargs\u001b[0m\u001b[0;34m)\u001b[0m\u001b[0;34m\u001b[0m\u001b[0;34m\u001b[0m\u001b[0m\n\u001b[0m\u001b[1;32m   1052\u001b[0m         \u001b[0;31m# Do not call functions when jit is used\u001b[0m\u001b[0;34m\u001b[0m\u001b[0;34m\u001b[0m\u001b[0;34m\u001b[0m\u001b[0m\n\u001b[1;32m   1053\u001b[0m         \u001b[0mfull_backward_hooks\u001b[0m\u001b[0;34m,\u001b[0m \u001b[0mnon_full_backward_hooks\u001b[0m \u001b[0;34m=\u001b[0m \u001b[0;34m[\u001b[0m\u001b[0;34m]\u001b[0m\u001b[0;34m,\u001b[0m \u001b[0;34m[\u001b[0m\u001b[0;34m]\u001b[0m\u001b[0;34m\u001b[0m\u001b[0;34m\u001b[0m\u001b[0m\n",
      "\u001b[0;32m~/anaconda3/envs/nlp/lib/python3.6/site-packages/transformers/models/roberta/modeling_roberta.py\u001b[0m in \u001b[0;36mforward\u001b[0;34m(self, hidden_states, attention_mask, head_mask, encoder_hidden_states, encoder_attention_mask, past_key_value, output_attentions)\u001b[0m\n\u001b[1;32m    412\u001b[0m             \u001b[0mhead_mask\u001b[0m\u001b[0;34m,\u001b[0m\u001b[0;34m\u001b[0m\u001b[0;34m\u001b[0m\u001b[0m\n\u001b[1;32m    413\u001b[0m             \u001b[0moutput_attentions\u001b[0m\u001b[0;34m=\u001b[0m\u001b[0moutput_attentions\u001b[0m\u001b[0;34m,\u001b[0m\u001b[0;34m\u001b[0m\u001b[0;34m\u001b[0m\u001b[0m\n\u001b[0;32m--> 414\u001b[0;31m             \u001b[0mpast_key_value\u001b[0m\u001b[0;34m=\u001b[0m\u001b[0mself_attn_past_key_value\u001b[0m\u001b[0;34m,\u001b[0m\u001b[0;34m\u001b[0m\u001b[0;34m\u001b[0m\u001b[0m\n\u001b[0m\u001b[1;32m    415\u001b[0m         )\n\u001b[1;32m    416\u001b[0m         \u001b[0mattention_output\u001b[0m \u001b[0;34m=\u001b[0m \u001b[0mself_attention_outputs\u001b[0m\u001b[0;34m[\u001b[0m\u001b[0;36m0\u001b[0m\u001b[0;34m]\u001b[0m\u001b[0;34m\u001b[0m\u001b[0;34m\u001b[0m\u001b[0m\n",
      "\u001b[0;32m~/anaconda3/envs/nlp/lib/python3.6/site-packages/torch/nn/modules/module.py\u001b[0m in \u001b[0;36m_call_impl\u001b[0;34m(self, *input, **kwargs)\u001b[0m\n\u001b[1;32m   1049\u001b[0m         if not (self._backward_hooks or self._forward_hooks or self._forward_pre_hooks or _global_backward_hooks\n\u001b[1;32m   1050\u001b[0m                 or _global_forward_hooks or _global_forward_pre_hooks):\n\u001b[0;32m-> 1051\u001b[0;31m             \u001b[0;32mreturn\u001b[0m \u001b[0mforward_call\u001b[0m\u001b[0;34m(\u001b[0m\u001b[0;34m*\u001b[0m\u001b[0minput\u001b[0m\u001b[0;34m,\u001b[0m \u001b[0;34m**\u001b[0m\u001b[0mkwargs\u001b[0m\u001b[0;34m)\u001b[0m\u001b[0;34m\u001b[0m\u001b[0;34m\u001b[0m\u001b[0m\n\u001b[0m\u001b[1;32m   1052\u001b[0m         \u001b[0;31m# Do not call functions when jit is used\u001b[0m\u001b[0;34m\u001b[0m\u001b[0;34m\u001b[0m\u001b[0;34m\u001b[0m\u001b[0m\n\u001b[1;32m   1053\u001b[0m         \u001b[0mfull_backward_hooks\u001b[0m\u001b[0;34m,\u001b[0m \u001b[0mnon_full_backward_hooks\u001b[0m \u001b[0;34m=\u001b[0m \u001b[0;34m[\u001b[0m\u001b[0;34m]\u001b[0m\u001b[0;34m,\u001b[0m \u001b[0;34m[\u001b[0m\u001b[0;34m]\u001b[0m\u001b[0;34m\u001b[0m\u001b[0;34m\u001b[0m\u001b[0m\n",
      "\u001b[0;32m~/anaconda3/envs/nlp/lib/python3.6/site-packages/transformers/models/roberta/modeling_roberta.py\u001b[0m in \u001b[0;36mforward\u001b[0;34m(self, hidden_states, attention_mask, head_mask, encoder_hidden_states, encoder_attention_mask, past_key_value, output_attentions)\u001b[0m\n\u001b[1;32m    342\u001b[0m             \u001b[0mencoder_attention_mask\u001b[0m\u001b[0;34m,\u001b[0m\u001b[0;34m\u001b[0m\u001b[0;34m\u001b[0m\u001b[0m\n\u001b[1;32m    343\u001b[0m             \u001b[0mpast_key_value\u001b[0m\u001b[0;34m,\u001b[0m\u001b[0;34m\u001b[0m\u001b[0;34m\u001b[0m\u001b[0m\n\u001b[0;32m--> 344\u001b[0;31m             \u001b[0moutput_attentions\u001b[0m\u001b[0;34m,\u001b[0m\u001b[0;34m\u001b[0m\u001b[0;34m\u001b[0m\u001b[0m\n\u001b[0m\u001b[1;32m    345\u001b[0m         )\n\u001b[1;32m    346\u001b[0m         \u001b[0mattention_output\u001b[0m \u001b[0;34m=\u001b[0m \u001b[0mself\u001b[0m\u001b[0;34m.\u001b[0m\u001b[0moutput\u001b[0m\u001b[0;34m(\u001b[0m\u001b[0mself_outputs\u001b[0m\u001b[0;34m[\u001b[0m\u001b[0;36m0\u001b[0m\u001b[0;34m]\u001b[0m\u001b[0;34m,\u001b[0m \u001b[0mhidden_states\u001b[0m\u001b[0;34m)\u001b[0m\u001b[0;34m\u001b[0m\u001b[0;34m\u001b[0m\u001b[0m\n",
      "\u001b[0;32m~/anaconda3/envs/nlp/lib/python3.6/site-packages/torch/nn/modules/module.py\u001b[0m in \u001b[0;36m_call_impl\u001b[0;34m(self, *input, **kwargs)\u001b[0m\n\u001b[1;32m   1049\u001b[0m         if not (self._backward_hooks or self._forward_hooks or self._forward_pre_hooks or _global_backward_hooks\n\u001b[1;32m   1050\u001b[0m                 or _global_forward_hooks or _global_forward_pre_hooks):\n\u001b[0;32m-> 1051\u001b[0;31m             \u001b[0;32mreturn\u001b[0m \u001b[0mforward_call\u001b[0m\u001b[0;34m(\u001b[0m\u001b[0;34m*\u001b[0m\u001b[0minput\u001b[0m\u001b[0;34m,\u001b[0m \u001b[0;34m**\u001b[0m\u001b[0mkwargs\u001b[0m\u001b[0;34m)\u001b[0m\u001b[0;34m\u001b[0m\u001b[0;34m\u001b[0m\u001b[0m\n\u001b[0m\u001b[1;32m   1052\u001b[0m         \u001b[0;31m# Do not call functions when jit is used\u001b[0m\u001b[0;34m\u001b[0m\u001b[0;34m\u001b[0m\u001b[0;34m\u001b[0m\u001b[0m\n\u001b[1;32m   1053\u001b[0m         \u001b[0mfull_backward_hooks\u001b[0m\u001b[0;34m,\u001b[0m \u001b[0mnon_full_backward_hooks\u001b[0m \u001b[0;34m=\u001b[0m \u001b[0;34m[\u001b[0m\u001b[0;34m]\u001b[0m\u001b[0;34m,\u001b[0m \u001b[0;34m[\u001b[0m\u001b[0;34m]\u001b[0m\u001b[0;34m\u001b[0m\u001b[0;34m\u001b[0m\u001b[0m\n",
      "\u001b[0;32m~/anaconda3/envs/nlp/lib/python3.6/site-packages/transformers/models/roberta/modeling_roberta.py\u001b[0m in \u001b[0;36mforward\u001b[0;34m(self, hidden_states, attention_mask, head_mask, encoder_hidden_states, encoder_attention_mask, past_key_value, output_attentions)\u001b[0m\n\u001b[1;32m    255\u001b[0m                 \u001b[0mattention_scores\u001b[0m \u001b[0;34m=\u001b[0m \u001b[0mattention_scores\u001b[0m \u001b[0;34m+\u001b[0m \u001b[0mrelative_position_scores_query\u001b[0m \u001b[0;34m+\u001b[0m \u001b[0mrelative_position_scores_key\u001b[0m\u001b[0;34m\u001b[0m\u001b[0;34m\u001b[0m\u001b[0m\n\u001b[1;32m    256\u001b[0m \u001b[0;34m\u001b[0m\u001b[0m\n\u001b[0;32m--> 257\u001b[0;31m         \u001b[0mattention_scores\u001b[0m \u001b[0;34m=\u001b[0m \u001b[0mattention_scores\u001b[0m \u001b[0;34m/\u001b[0m \u001b[0mmath\u001b[0m\u001b[0;34m.\u001b[0m\u001b[0msqrt\u001b[0m\u001b[0;34m(\u001b[0m\u001b[0mself\u001b[0m\u001b[0;34m.\u001b[0m\u001b[0mattention_head_size\u001b[0m\u001b[0;34m)\u001b[0m\u001b[0;34m\u001b[0m\u001b[0;34m\u001b[0m\u001b[0m\n\u001b[0m\u001b[1;32m    258\u001b[0m         \u001b[0;32mif\u001b[0m \u001b[0mattention_mask\u001b[0m \u001b[0;32mis\u001b[0m \u001b[0;32mnot\u001b[0m \u001b[0;32mNone\u001b[0m\u001b[0;34m:\u001b[0m\u001b[0;34m\u001b[0m\u001b[0;34m\u001b[0m\u001b[0m\n\u001b[1;32m    259\u001b[0m             \u001b[0;31m# Apply the attention mask is (precomputed for all layers in RobertaModel forward() function)\u001b[0m\u001b[0;34m\u001b[0m\u001b[0;34m\u001b[0m\u001b[0;34m\u001b[0m\u001b[0m\n",
      "\u001b[0;31mRuntimeError\u001b[0m: CUDA out of memory. Tried to allocate 144.00 MiB (GPU 0; 10.92 GiB total capacity; 9.99 GiB already allocated; 143.38 MiB free; 10.01 GiB reserved in total by PyTorch)"
     ]
    }
   ],
   "source": [
    "training_args = TrainingArguments(\n",
    "    output_dir=\"ShAm-ki-chaii\", \n",
    "    overwrite_output_dir=True, \n",
    "    per_device_eval_batch_size=hyperparams.batch_size,\n",
    "    per_device_train_batch_size=hyperparams.batch_size,\n",
    "    evaluation_strategy=\"epoch\", \n",
    "    learning_rate=2e-5,\n",
    "    weight_decay=0.01,\n",
    "    num_train_epochs=3,\n",
    "    seed=hyperparams.seed,\n",
    "    save_strategy=\"epoch\",\n",
    "    save_total_limit=1,\n",
    "    load_best_model_at_end=True,\n",
    "#     metric_for_best_model=\"eval_accuracy\",\n",
    "#     greater_is_better=True,\n",
    "#     warmup_steps=500,\n",
    "#     logging_dir='./logs',\n",
    "#     logging_strategy=\"epoch\",\n",
    ")\n",
    "\n",
    "trainer = Trainer(\n",
    "    model=model, args=training_args,\n",
    "    train_dataset=trainset, eval_dataset=valset,\n",
    ")\n",
    "\n",
    "trainer.train()"
   ]
  },
  {
   "cell_type": "code",
   "execution_count": null,
   "id": "cc305123",
   "metadata": {},
   "outputs": [],
   "source": []
  },
  {
   "cell_type": "code",
   "execution_count": null,
   "id": "99fff9fc",
   "metadata": {},
   "outputs": [],
   "source": []
  },
  {
   "cell_type": "markdown",
   "id": "7af9a1cc",
   "metadata": {},
   "source": [
    "### evaluation"
   ]
  },
  {
   "cell_type": "code",
   "execution_count": null,
   "id": "6ad3a35f",
   "metadata": {},
   "outputs": [],
   "source": []
  },
  {
   "cell_type": "code",
   "execution_count": null,
   "id": "8b368850",
   "metadata": {},
   "outputs": [],
   "source": []
  },
  {
   "cell_type": "code",
   "execution_count": null,
   "id": "43fc0ec9",
   "metadata": {},
   "outputs": [],
   "source": []
  },
  {
   "cell_type": "code",
   "execution_count": null,
   "id": "7f5773e7",
   "metadata": {},
   "outputs": [],
   "source": []
  },
  {
   "cell_type": "markdown",
   "id": "aff96daa",
   "metadata": {},
   "source": [
    "### references\n",
    "1. https://github.com/huggingface/notebooks/blob/master/examples/question_answering.ipynb\n",
    "2. https://huggingface.co/transformers/internal/tokenization_utils.html#transformers.tokenization_utils_base.PreTrainedTokenizerBase.__call__"
   ]
  },
  {
   "cell_type": "code",
   "execution_count": null,
   "id": "4795681b",
   "metadata": {},
   "outputs": [],
   "source": []
  },
  {
   "cell_type": "code",
   "execution_count": null,
   "id": "d8b71625",
   "metadata": {},
   "outputs": [],
   "source": []
  },
  {
   "cell_type": "markdown",
   "id": "209a9212",
   "metadata": {},
   "source": [
    "#### remove following code"
   ]
  },
  {
   "cell_type": "code",
   "execution_count": 74,
   "id": "3e9d08c8",
   "metadata": {},
   "outputs": [],
   "source": [
    "# from datasets import load_dataset"
   ]
  },
  {
   "cell_type": "code",
   "execution_count": 75,
   "id": "8f517c0a",
   "metadata": {
    "scrolled": true
   },
   "outputs": [],
   "source": [
    "# datasets = load_dataset(\"squad_v2\")"
   ]
  },
  {
   "cell_type": "code",
   "execution_count": 53,
   "id": "a2086e29",
   "metadata": {},
   "outputs": [],
   "source": [
    "# def prepare_train_features(examples):\n",
    "#     max_length = 384\n",
    "#     doc_stride = 128\n",
    "#     pad_on_right = True\n",
    "#     # Some of the questions have lots of whitespace on the left, which is not useful and will make the\n",
    "#     # truncation of the context fail (the tokenized question will take a lots of space). So we remove that\n",
    "#     # left whitespace\n",
    "#     examples[\"question\"] = [q.lstrip() for q in examples[\"question\"]]\n",
    "\n",
    "#     # Tokenize our examples with truncation and padding, but keep the overflows using a stride. This results\n",
    "#     # in one example possible giving several features when a context is long, each of those features having a\n",
    "#     # context that overlaps a bit the context of the previous feature.\n",
    "#     tokenized_examples = tokenizer(\n",
    "#         examples[\"question\" if pad_on_right else \"context\"],\n",
    "#         examples[\"context\" if pad_on_right else \"question\"],\n",
    "#         truncation=\"only_second\" if pad_on_right else \"only_first\",\n",
    "#         max_length=max_length,\n",
    "#         stride=doc_stride,\n",
    "#         return_overflowing_tokens=True,\n",
    "#         return_offsets_mapping=True,\n",
    "#         padding=\"max_length\",\n",
    "#     )\n",
    "\n",
    "#     # Since one example might give us several features if it has a long context, we need a map from a feature to\n",
    "#     # its corresponding example. This key gives us just that.\n",
    "#     sample_mapping = tokenized_examples.pop(\"overflow_to_sample_mapping\")\n",
    "#     # The offset mappings will give us a map from token to character position in the original context. This will\n",
    "#     # help us compute the start_positions and end_positions.\n",
    "#     offset_mapping = tokenized_examples.pop(\"offset_mapping\")\n",
    "\n",
    "#     # Let's label those examples!\n",
    "#     tokenized_examples[\"start_positions\"] = []\n",
    "#     tokenized_examples[\"end_positions\"] = []\n",
    "\n",
    "#     for i, offsets in enumerate(offset_mapping):\n",
    "#         # We will label impossible answers with the index of the CLS token.\n",
    "#         input_ids = tokenized_examples[\"input_ids\"][i]\n",
    "#         cls_index = input_ids.index(tokenizer.cls_token_id)\n",
    "\n",
    "#         # Grab the sequence corresponding to that example (to know what is the context and what is the question).\n",
    "#         sequence_ids = tokenized_examples.sequence_ids(i)\n",
    "\n",
    "#         # One example can give several spans, this is the index of the example containing this span of text.\n",
    "#         sample_index = sample_mapping[i]\n",
    "#         answers = examples[\"answers\"][sample_index]\n",
    "#         # If no answers are given, set the cls_index as answer.\n",
    "#         if len(answers[\"answer_start\"]) == 0:\n",
    "#             tokenized_examples[\"start_positions\"].append(cls_index)\n",
    "#             tokenized_examples[\"end_positions\"].append(cls_index)\n",
    "#         else:\n",
    "#             # Start/end character index of the answer in the text.\n",
    "#             start_char = answers[\"answer_start\"][0]\n",
    "#             end_char = start_char + len(answers[\"text\"][0])\n",
    "\n",
    "#             # Start token index of the current span in the text.\n",
    "#             token_start_index = 0\n",
    "#             while sequence_ids[token_start_index] != (1 if pad_on_right else 0):\n",
    "#                 token_start_index += 1\n",
    "\n",
    "#             # End token index of the current span in the text.\n",
    "#             token_end_index = len(input_ids) - 1\n",
    "#             while sequence_ids[token_end_index] != (1 if pad_on_right else 0):\n",
    "#                 token_end_index -= 1\n",
    "\n",
    "#             # Detect if the answer is out of the span (in which case this feature is labeled with the CLS index).\n",
    "#             if not (offsets[token_start_index][0] <= start_char and offsets[token_end_index][1] >= end_char):\n",
    "#                 tokenized_examples[\"start_positions\"].append(cls_index)\n",
    "#                 tokenized_examples[\"end_positions\"].append(cls_index)\n",
    "#             else:\n",
    "#                 # Otherwise move the token_start_index and token_end_index to the two ends of the answer.\n",
    "#                 # Note: we could go after the last offset if the answer is the last word (edge case).\n",
    "#                 while token_start_index < len(offsets) and offsets[token_start_index][0] <= start_char:\n",
    "#                     token_start_index += 1\n",
    "#                 tokenized_examples[\"start_positions\"].append(token_start_index - 1)\n",
    "#                 while offsets[token_end_index][1] >= end_char:\n",
    "#                     token_end_index -= 1\n",
    "#                 tokenized_examples[\"end_positions\"].append(token_end_index + 1)\n",
    "\n",
    "#     return tokenized_examples"
   ]
  },
  {
   "cell_type": "code",
   "execution_count": 54,
   "id": "3104cba6",
   "metadata": {},
   "outputs": [],
   "source": [
    "# tokenized_datasets = datasets.map(prepare_train_features, batched=True, remove_columns=datasets[\"train\"].column_names)"
   ]
  },
  {
   "cell_type": "code",
   "execution_count": 55,
   "id": "8e98f589",
   "metadata": {},
   "outputs": [],
   "source": [
    "# print(datasets)\n",
    "# print(datasets[\"train\"].column_names)\n",
    "# print(tokenized_datasets)"
   ]
  },
  {
   "cell_type": "markdown",
   "id": "9150da3f",
   "metadata": {},
   "source": [
    "### data - understanding the pipeline"
   ]
  },
  {
   "cell_type": "code",
   "execution_count": 56,
   "id": "969fda5f",
   "metadata": {},
   "outputs": [],
   "source": [
    "# tokenizer = AutoTokenizer.from_pretrained(hyperparams.tokenizer_name)"
   ]
  },
  {
   "cell_type": "code",
   "execution_count": 57,
   "id": "d9dc0e63",
   "metadata": {},
   "outputs": [],
   "source": [
    "# train_df = pd.read_csv('train.csv', encoding='utf-8')\n",
    "# test_df = pd.read_csv('test.csv')\n",
    "# sample_df = pd.read_csv('sample_submission.csv')"
   ]
  },
  {
   "cell_type": "code",
   "execution_count": 58,
   "id": "b27f1bc7",
   "metadata": {},
   "outputs": [],
   "source": [
    "# train_df = sklearn.utils.shuffle(train_df, random_state=4).reset_index(drop=True)"
   ]
  },
  {
   "cell_type": "code",
   "execution_count": 15,
   "id": "6d9d091e",
   "metadata": {},
   "outputs": [],
   "source": [
    "# # converting into Squad format\n",
    "# def convert_answers(row):\n",
    "#     return {'answer_start': [row[0]], 'text': [row[1]]}\n",
    "\n",
    "# train_df['answers'] = train_df[['answer_start', 'answer_text']].apply(convert_answers, axis=1)"
   ]
  },
  {
   "cell_type": "code",
   "execution_count": 59,
   "id": "af9d2cf9",
   "metadata": {},
   "outputs": [],
   "source": [
    "# train_df = train_df.loc[:2]\n",
    "# # train_df"
   ]
  },
  {
   "cell_type": "code",
   "execution_count": 60,
   "id": "99d89caa",
   "metadata": {},
   "outputs": [],
   "source": [
    "# train_df"
   ]
  },
  {
   "cell_type": "code",
   "execution_count": 18,
   "id": "6ef80aca",
   "metadata": {},
   "outputs": [],
   "source": [
    "# for idx in range(len(train_df)):\n",
    "#     if train_df.loc[idx,'language'] == \"hindi\" and len(tokenizer(train_df.loc[idx, 'context'], train_df.loc[idx, 'question'])['input_ids']) > hyperparams.max_len:\n",
    "#         break"
   ]
  },
  {
   "cell_type": "code",
   "execution_count": 61,
   "id": "fa4791e4",
   "metadata": {},
   "outputs": [],
   "source": [
    "# out = tokenizer(\n",
    "#     list(train_df['question']), list(train_df['context']),\n",
    "#     max_length=hyperparams.max_len, \n",
    "#     truncation='only_second',\n",
    "#     stride=hyperparams.overlap_len,\n",
    "#     return_overflowing_tokens=True,\n",
    "#     return_offsets_mapping=True,\n",
    "#     padding=True,\n",
    "# )"
   ]
  },
  {
   "cell_type": "code",
   "execution_count": 62,
   "id": "d2ecb621",
   "metadata": {
    "scrolled": true
   },
   "outputs": [],
   "source": [
    "# print(out.keys())\n",
    "# print(len(out['input_ids']), len(out['offset_mapping']))"
   ]
  },
  {
   "cell_type": "code",
   "execution_count": 63,
   "id": "8d011103",
   "metadata": {
    "scrolled": true
   },
   "outputs": [],
   "source": [
    "# print(len(out['offset_mapping']))\n",
    "# # for i in range(len(out['offset_mapping'])):\n",
    "# #     print(len(out.sequence_ids(i)))"
   ]
  },
  {
   "cell_type": "code",
   "execution_count": 64,
   "id": "ee5f04a2",
   "metadata": {},
   "outputs": [],
   "source": [
    "# print(tokenizer.cls_token, tokenizer.bos_token, tokenizer.padding_side)"
   ]
  },
  {
   "cell_type": "code",
   "execution_count": 65,
   "id": "c7aaa628",
   "metadata": {},
   "outputs": [],
   "source": [
    "# print(len(out['input_ids']))"
   ]
  },
  {
   "cell_type": "code",
   "execution_count": 24,
   "id": "36abbe80",
   "metadata": {},
   "outputs": [],
   "source": [
    "# print(tokenizer.decode(out['input_ids'][0]))\n",
    "# print(tokenizer.decode(out['input_ids'][1]))\n",
    "# print(tokenizer.decode(out['input_ids'][2]))"
   ]
  },
  {
   "cell_type": "code",
   "execution_count": 66,
   "id": "f4abcb9b",
   "metadata": {},
   "outputs": [],
   "source": [
    "# map_x2context_idx = out['overflow_to_sample_mapping']\n",
    "# print(map_x2context_idx, type(map_x2context_idx))"
   ]
  },
  {
   "cell_type": "code",
   "execution_count": 67,
   "id": "10cd45cd",
   "metadata": {},
   "outputs": [],
   "source": [
    "# map_offset = out['offset_mapping']"
   ]
  },
  {
   "cell_type": "code",
   "execution_count": 68,
   "id": "fe523d69",
   "metadata": {},
   "outputs": [],
   "source": [
    "# idx = random.randint(0, len(out['input_ids']))\n",
    "# idx"
   ]
  },
  {
   "cell_type": "code",
   "execution_count": 69,
   "id": "37997b34",
   "metadata": {},
   "outputs": [],
   "source": [
    "# x_idx = out['input_ids'][idx]\n",
    "# x_context_idx = map_x2context_idx[idx]\n",
    "# print(idx, x_context_idx, len(x_idx))"
   ]
  },
  {
   "cell_type": "code",
   "execution_count": 70,
   "id": "4ee55ba7",
   "metadata": {},
   "outputs": [],
   "source": [
    "# x_x1_x2 = out.sequence_ids(idx) # sequence ids"
   ]
  },
  {
   "cell_type": "code",
   "execution_count": 30,
   "id": "bdd62b47",
   "metadata": {},
   "outputs": [],
   "source": [
    "# tokenizer.decode(x_idx)"
   ]
  },
  {
   "cell_type": "code",
   "execution_count": 71,
   "id": "b1a74cc7",
   "metadata": {},
   "outputs": [],
   "source": [
    "# answer_start = train_df.loc[x_context_idx, 'answer_start']\n",
    "# answer = train_df.loc[x_context_idx, 'answer_text']\n",
    "# print(answer)\n",
    "# print(answer_start)"
   ]
  },
  {
   "cell_type": "code",
   "execution_count": 72,
   "id": "213c81ac",
   "metadata": {},
   "outputs": [],
   "source": [
    "# cls_idx = x_idx.index(tokenizer.cls_token_id)\n",
    "# cls_idx"
   ]
  },
  {
   "cell_type": "code",
   "execution_count": 73,
   "id": "67d570be",
   "metadata": {},
   "outputs": [],
   "source": [
    "# y_start_char = train_df.loc[x_context_idx, 'answer_start']\n",
    "# y_end_char = train_df.loc[x_context_idx, 'answer_start'] + len(train_df.loc[x_context_idx, 'answer_text']) # note it is one char ahead"
   ]
  },
  {
   "cell_type": "code",
   "execution_count": null,
   "id": "260ae138",
   "metadata": {},
   "outputs": [],
   "source": [
    "# a = [(1,2.1)]\n",
    "# torch.tensor(a, dtype=torch.long)"
   ]
  },
  {
   "cell_type": "code",
   "execution_count": null,
   "id": "4babab9a",
   "metadata": {},
   "outputs": [],
   "source": [
    "# trainset = chaii_ka_data(train_df, tokenizer)\n",
    "# next(iter(trainset))"
   ]
  },
  {
   "cell_type": "code",
   "execution_count": null,
   "id": "abaadf2e",
   "metadata": {},
   "outputs": [],
   "source": []
  },
  {
   "cell_type": "code",
   "execution_count": null,
   "id": "af7d741c",
   "metadata": {},
   "outputs": [],
   "source": []
  },
  {
   "cell_type": "code",
   "execution_count": null,
   "id": "4bfa7dee",
   "metadata": {},
   "outputs": [],
   "source": []
  },
  {
   "cell_type": "code",
   "execution_count": null,
   "id": "1b9eac14",
   "metadata": {},
   "outputs": [],
   "source": []
  }
 ],
 "metadata": {
  "kernelspec": {
   "display_name": "Python 3",
   "language": "python",
   "name": "python3"
  },
  "language_info": {
   "codemirror_mode": {
    "name": "ipython",
    "version": 3
   },
   "file_extension": ".py",
   "mimetype": "text/x-python",
   "name": "python",
   "nbconvert_exporter": "python",
   "pygments_lexer": "ipython3",
   "version": "3.6.13"
  }
 },
 "nbformat": 4,
 "nbformat_minor": 5
}
