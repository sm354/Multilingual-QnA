{
 "cells": [
  {
   "cell_type": "markdown",
   "id": "3a77c3fb",
   "metadata": {},
   "source": [
    "### one time installations"
   ]
  },
  {
   "cell_type": "code",
   "execution_count": 1,
   "id": "a73e60a7",
   "metadata": {},
   "outputs": [],
   "source": [
    "# !gdown --id 1pb7gEkctrVrJA79EAIo7H7nuzD6uV1fW\n",
    "# !gdown --id 1oIeAE9HXXKWPcYa-AZ0ht5ef6sKe_Vh_\n",
    "# !gdown --id 10rAuIDvsYR2yDiCqP7GmYGPc-UmtLbJb"
   ]
  },
  {
   "cell_type": "code",
   "execution_count": 2,
   "id": "fd5a3a2b",
   "metadata": {},
   "outputs": [],
   "source": [
    "# !pip install --quiet transformers\n",
    "# !pip install --quiet datasets \n",
    "# !pip install --quiet SentencePiece\n",
    "# !pip install --quiet pytorch-lightning"
   ]
  },
  {
   "cell_type": "markdown",
   "id": "76b18052",
   "metadata": {},
   "source": [
    "### libraries"
   ]
  },
  {
   "cell_type": "code",
   "execution_count": 9,
   "id": "0371301c",
   "metadata": {},
   "outputs": [],
   "source": [
    "import numpy as np\n",
    "import pandas as pd\n",
    "import sklearn\n",
    "import random\n",
    "\n",
    "import torch\n",
    "import torch.nn as nn\n",
    "import torch.nn.functional as F\n",
    "from torch.utils.data import Dataset, DataLoader\n",
    "\n",
    "from transformers import AutoModelForQuestionAnswering, AutoTokenizer\n",
    "from transformers import Trainer, TrainingArguments"
   ]
  },
  {
   "cell_type": "markdown",
   "id": "ef223314",
   "metadata": {},
   "source": [
    "### hyper parameters"
   ]
  },
  {
   "cell_type": "code",
   "execution_count": 10,
   "id": "15f9b6c1",
   "metadata": {},
   "outputs": [],
   "source": [
    "class hyperparameters:\n",
    "    # tokenizer\n",
    "    tokenizer_name = \"deepset/xlm-roberta-large-squad2\" # model_name # CHANGE THIS; TRY XLM-ROBERTA\n",
    "    max_len = 384 # maximum length of context and question in a datapoint\n",
    "    overlap_len = 128 # overlap between two parts of the context when it is split\n",
    "    \n",
    "    # model\n",
    "    model_name = \"deepset/xlm-roberta-large-squad2\"\n",
    "    "
   ]
  },
  {
   "cell_type": "code",
   "execution_count": 11,
   "id": "48a6df55",
   "metadata": {},
   "outputs": [],
   "source": [
    "hyperparams = hyperparameters()"
   ]
  },
  {
   "cell_type": "markdown",
   "id": "209a9212",
   "metadata": {},
   "source": [
    "#### remove following code"
   ]
  },
  {
   "cell_type": "code",
   "execution_count": 12,
   "id": "3e9d08c8",
   "metadata": {},
   "outputs": [],
   "source": [
    "from datasets import load_dataset"
   ]
  },
  {
   "cell_type": "code",
   "execution_count": 28,
   "id": "8f517c0a",
   "metadata": {
    "scrolled": true
   },
   "outputs": [
    {
     "name": "stderr",
     "output_type": "stream",
     "text": [
      "Reusing dataset squad_v2 (/home/shubham/.cache/huggingface/datasets/squad_v2/squad_v2/2.0.0/09187c73c1b837c95d9a249cd97c2c3f1cebada06efe667b4427714b27639b1d)\n"
     ]
    },
    {
     "data": {
      "application/vnd.jupyter.widget-view+json": {
       "model_id": "ebf5366c17e24dbd8443ad5d731f0bbe",
       "version_major": 2,
       "version_minor": 0
      },
      "text/plain": [
       "  0%|          | 0/2 [00:00<?, ?it/s]"
      ]
     },
     "metadata": {},
     "output_type": "display_data"
    }
   ],
   "source": [
    "datasets = load_dataset(\"squad_v2\")"
   ]
  },
  {
   "cell_type": "code",
   "execution_count": 29,
   "id": "a2086e29",
   "metadata": {},
   "outputs": [],
   "source": [
    "def prepare_train_features(examples):\n",
    "    max_length = 384\n",
    "    doc_stride = 128\n",
    "    pad_on_right = True\n",
    "    # Some of the questions have lots of whitespace on the left, which is not useful and will make the\n",
    "    # truncation of the context fail (the tokenized question will take a lots of space). So we remove that\n",
    "    # left whitespace\n",
    "    examples[\"question\"] = [q.lstrip() for q in examples[\"question\"]]\n",
    "\n",
    "    # Tokenize our examples with truncation and padding, but keep the overflows using a stride. This results\n",
    "    # in one example possible giving several features when a context is long, each of those features having a\n",
    "    # context that overlaps a bit the context of the previous feature.\n",
    "    tokenized_examples = tokenizer(\n",
    "        examples[\"question\" if pad_on_right else \"context\"],\n",
    "        examples[\"context\" if pad_on_right else \"question\"],\n",
    "        truncation=\"only_second\" if pad_on_right else \"only_first\",\n",
    "        max_length=max_length,\n",
    "        stride=doc_stride,\n",
    "        return_overflowing_tokens=True,\n",
    "        return_offsets_mapping=True,\n",
    "        padding=\"max_length\",\n",
    "    )\n",
    "\n",
    "    # Since one example might give us several features if it has a long context, we need a map from a feature to\n",
    "    # its corresponding example. This key gives us just that.\n",
    "    sample_mapping = tokenized_examples.pop(\"overflow_to_sample_mapping\")\n",
    "    # The offset mappings will give us a map from token to character position in the original context. This will\n",
    "    # help us compute the start_positions and end_positions.\n",
    "    offset_mapping = tokenized_examples.pop(\"offset_mapping\")\n",
    "\n",
    "    # Let's label those examples!\n",
    "    tokenized_examples[\"start_positions\"] = []\n",
    "    tokenized_examples[\"end_positions\"] = []\n",
    "\n",
    "    for i, offsets in enumerate(offset_mapping):\n",
    "        # We will label impossible answers with the index of the CLS token.\n",
    "        input_ids = tokenized_examples[\"input_ids\"][i]\n",
    "        cls_index = input_ids.index(tokenizer.cls_token_id)\n",
    "\n",
    "        # Grab the sequence corresponding to that example (to know what is the context and what is the question).\n",
    "        sequence_ids = tokenized_examples.sequence_ids(i)\n",
    "\n",
    "        # One example can give several spans, this is the index of the example containing this span of text.\n",
    "        sample_index = sample_mapping[i]\n",
    "        answers = examples[\"answers\"][sample_index]\n",
    "        # If no answers are given, set the cls_index as answer.\n",
    "        if len(answers[\"answer_start\"]) == 0:\n",
    "            tokenized_examples[\"start_positions\"].append(cls_index)\n",
    "            tokenized_examples[\"end_positions\"].append(cls_index)\n",
    "        else:\n",
    "            # Start/end character index of the answer in the text.\n",
    "            start_char = answers[\"answer_start\"][0]\n",
    "            end_char = start_char + len(answers[\"text\"][0])\n",
    "\n",
    "            # Start token index of the current span in the text.\n",
    "            token_start_index = 0\n",
    "            while sequence_ids[token_start_index] != (1 if pad_on_right else 0):\n",
    "                token_start_index += 1\n",
    "\n",
    "            # End token index of the current span in the text.\n",
    "            token_end_index = len(input_ids) - 1\n",
    "            while sequence_ids[token_end_index] != (1 if pad_on_right else 0):\n",
    "                token_end_index -= 1\n",
    "\n",
    "            # Detect if the answer is out of the span (in which case this feature is labeled with the CLS index).\n",
    "            if not (offsets[token_start_index][0] <= start_char and offsets[token_end_index][1] >= end_char):\n",
    "                tokenized_examples[\"start_positions\"].append(cls_index)\n",
    "                tokenized_examples[\"end_positions\"].append(cls_index)\n",
    "            else:\n",
    "                # Otherwise move the token_start_index and token_end_index to the two ends of the answer.\n",
    "                # Note: we could go after the last offset if the answer is the last word (edge case).\n",
    "                while token_start_index < len(offsets) and offsets[token_start_index][0] <= start_char:\n",
    "                    token_start_index += 1\n",
    "                tokenized_examples[\"start_positions\"].append(token_start_index - 1)\n",
    "                while offsets[token_end_index][1] >= end_char:\n",
    "                    token_end_index -= 1\n",
    "                tokenized_examples[\"end_positions\"].append(token_end_index + 1)\n",
    "\n",
    "    return tokenized_examples"
   ]
  },
  {
   "cell_type": "code",
   "execution_count": 24,
   "id": "3104cba6",
   "metadata": {},
   "outputs": [
    {
     "data": {
      "application/vnd.jupyter.widget-view+json": {
       "model_id": "e96625e2b0b7428592652336a3dcf9a1",
       "version_major": 2,
       "version_minor": 0
      },
      "text/plain": [
       "  0%|          | 0/131 [00:00<?, ?ba/s]"
      ]
     },
     "metadata": {},
     "output_type": "display_data"
    },
    {
     "data": {
      "application/vnd.jupyter.widget-view+json": {
       "model_id": "4fc0a344e7674af7ae6171324abf8731",
       "version_major": 2,
       "version_minor": 0
      },
      "text/plain": [
       "  0%|          | 0/12 [00:00<?, ?ba/s]"
      ]
     },
     "metadata": {},
     "output_type": "display_data"
    }
   ],
   "source": [
    "tokenized_datasets = datasets.map(prepare_train_features, batched=True, remove_columns=datasets[\"train\"].column_names)"
   ]
  },
  {
   "cell_type": "code",
   "execution_count": 30,
   "id": "8e98f589",
   "metadata": {},
   "outputs": [
    {
     "name": "stdout",
     "output_type": "stream",
     "text": [
      "DatasetDict({\n",
      "    train: Dataset({\n",
      "        features: ['id', 'title', 'context', 'question', 'answers'],\n",
      "        num_rows: 130319\n",
      "    })\n",
      "    validation: Dataset({\n",
      "        features: ['id', 'title', 'context', 'question', 'answers'],\n",
      "        num_rows: 11873\n",
      "    })\n",
      "})\n",
      "['id', 'title', 'context', 'question', 'answers']\n",
      "DatasetDict({\n",
      "    train: Dataset({\n",
      "        features: ['attention_mask', 'end_positions', 'input_ids', 'start_positions'],\n",
      "        num_rows: 133320\n",
      "    })\n",
      "    validation: Dataset({\n",
      "        features: ['attention_mask', 'end_positions', 'input_ids', 'start_positions'],\n",
      "        num_rows: 12360\n",
      "    })\n",
      "})\n"
     ]
    }
   ],
   "source": [
    "print(datasets)\n",
    "print(datasets[\"train\"].column_names)\n",
    "print(tokenized_datasets)"
   ]
  },
  {
   "cell_type": "markdown",
   "id": "9150da3f",
   "metadata": {},
   "source": [
    "### data - understanding the pipeline"
   ]
  },
  {
   "cell_type": "code",
   "execution_count": 16,
   "id": "969fda5f",
   "metadata": {},
   "outputs": [],
   "source": [
    "tokenizer = AutoTokenizer.from_pretrained(hyperparams.tokenizer_name)"
   ]
  },
  {
   "cell_type": "code",
   "execution_count": 5,
   "id": "d9dc0e63",
   "metadata": {},
   "outputs": [],
   "source": [
    "train_df = pd.read_csv('train.csv', encoding='utf-8')\n",
    "# test_df = pd.read_csv('test.csv')\n",
    "# sample_df = pd.read_csv('sample_submission.csv')"
   ]
  },
  {
   "cell_type": "code",
   "execution_count": 6,
   "id": "b27f1bc7",
   "metadata": {},
   "outputs": [],
   "source": [
    "train_df = sklearn.utils.shuffle(train_df, random_state=4).reset_index(drop=True)"
   ]
  },
  {
   "cell_type": "code",
   "execution_count": 7,
   "id": "6d9d091e",
   "metadata": {},
   "outputs": [],
   "source": [
    "# # converting into Squad format\n",
    "# def convert_answers(row):\n",
    "#     return {'answer_start': [row[0]], 'text': [row[1]]}\n",
    "\n",
    "# train_df['answers'] = train_df[['answer_start', 'answer_text']].apply(convert_answers, axis=1)"
   ]
  },
  {
   "cell_type": "code",
   "execution_count": 8,
   "id": "af9d2cf9",
   "metadata": {},
   "outputs": [],
   "source": [
    "train_df = train_df.loc[:2]\n",
    "# train_df"
   ]
  },
  {
   "cell_type": "code",
   "execution_count": 9,
   "id": "99d89caa",
   "metadata": {},
   "outputs": [
    {
     "data": {
      "text/html": [
       "<div>\n",
       "<style scoped>\n",
       "    .dataframe tbody tr th:only-of-type {\n",
       "        vertical-align: middle;\n",
       "    }\n",
       "\n",
       "    .dataframe tbody tr th {\n",
       "        vertical-align: top;\n",
       "    }\n",
       "\n",
       "    .dataframe thead th {\n",
       "        text-align: right;\n",
       "    }\n",
       "</style>\n",
       "<table border=\"1\" class=\"dataframe\">\n",
       "  <thead>\n",
       "    <tr style=\"text-align: right;\">\n",
       "      <th></th>\n",
       "      <th>id</th>\n",
       "      <th>context</th>\n",
       "      <th>question</th>\n",
       "      <th>answer_text</th>\n",
       "      <th>answer_start</th>\n",
       "      <th>language</th>\n",
       "    </tr>\n",
       "  </thead>\n",
       "  <tbody>\n",
       "    <tr>\n",
       "      <th>0</th>\n",
       "      <td>5179ed725</td>\n",
       "      <td>ரேடியம் (Radium) என்பது Ra என்ற மூலக்கூற்று வா...</td>\n",
       "      <td>ரேடியம் எப்போது கண்டுபிடிக்கப்பட்டது?</td>\n",
       "      <td>1898</td>\n",
       "      <td>975</td>\n",
       "      <td>tamil</td>\n",
       "    </tr>\n",
       "    <tr>\n",
       "      <th>1</th>\n",
       "      <td>b028b54cf</td>\n",
       "      <td>हेलेन एडम्स केलर (27 जून 1880 - 1 जून 1968) एक...</td>\n",
       "      <td>हेलेन केलर की मृत्यु किस वर्ष में हुई थी?</td>\n",
       "      <td>1968</td>\n",
       "      <td>38</td>\n",
       "      <td>hindi</td>\n",
       "    </tr>\n",
       "    <tr>\n",
       "      <th>2</th>\n",
       "      <td>86eff66f2</td>\n",
       "      <td>फ़ूड एण्ड ड्रग एडमिनिस्ट्रेशन (FDA या USFDA) स...</td>\n",
       "      <td>खाद्य एवं औषधि प्रशासन का मुख्यालय कहाँ पर है?</td>\n",
       "      <td>सिल्वर स्प्रिंग, मैरीलैंड</td>\n",
       "      <td>1092</td>\n",
       "      <td>hindi</td>\n",
       "    </tr>\n",
       "  </tbody>\n",
       "</table>\n",
       "</div>"
      ],
      "text/plain": [
       "          id                                            context  \\\n",
       "0  5179ed725  ரேடியம் (Radium) என்பது Ra என்ற மூலக்கூற்று வா...   \n",
       "1  b028b54cf  हेलेन एडम्स केलर (27 जून 1880 - 1 जून 1968) एक...   \n",
       "2  86eff66f2  फ़ूड एण्ड ड्रग एडमिनिस्ट्रेशन (FDA या USFDA) स...   \n",
       "\n",
       "                                         question                answer_text  \\\n",
       "0           ரேடியம் எப்போது கண்டுபிடிக்கப்பட்டது?                       1898   \n",
       "1       हेलेन केलर की मृत्यु किस वर्ष में हुई थी?                       1968   \n",
       "2  खाद्य एवं औषधि प्रशासन का मुख्यालय कहाँ पर है?  सिल्वर स्प्रिंग, मैरीलैंड   \n",
       "\n",
       "   answer_start language  \n",
       "0           975    tamil  \n",
       "1            38    hindi  \n",
       "2          1092    hindi  "
      ]
     },
     "execution_count": 9,
     "metadata": {},
     "output_type": "execute_result"
    }
   ],
   "source": [
    "train_df"
   ]
  },
  {
   "cell_type": "code",
   "execution_count": 10,
   "id": "6ef80aca",
   "metadata": {},
   "outputs": [],
   "source": [
    "# for idx in range(len(train_df)):\n",
    "#     if train_df.loc[idx,'language'] == \"hindi\" and len(tokenizer(train_df.loc[idx, 'context'], train_df.loc[idx, 'question'])['input_ids']) > hyperparams.max_len:\n",
    "#         break"
   ]
  },
  {
   "cell_type": "code",
   "execution_count": 11,
   "id": "fa4791e4",
   "metadata": {},
   "outputs": [],
   "source": [
    "out = tokenizer(\n",
    "    list(train_df['question']), list(train_df['context']),\n",
    "    max_length=hyperparams.max_len, \n",
    "    truncation='only_second',\n",
    "    stride=hyperparams.overlap_len,\n",
    "    return_overflowing_tokens=True,\n",
    "    return_offsets_mapping=True,\n",
    "    padding=True,\n",
    ")"
   ]
  },
  {
   "cell_type": "code",
   "execution_count": 12,
   "id": "d2ecb621",
   "metadata": {
    "scrolled": true
   },
   "outputs": [
    {
     "name": "stdout",
     "output_type": "stream",
     "text": [
      "dict_keys(['input_ids', 'attention_mask', 'offset_mapping', 'overflow_to_sample_mapping'])\n",
      "62 62\n"
     ]
    }
   ],
   "source": [
    "print(out.keys())\n",
    "print(len(out['input_ids']), len(out['offset_mapping']))"
   ]
  },
  {
   "cell_type": "code",
   "execution_count": 13,
   "id": "8d011103",
   "metadata": {
    "scrolled": true
   },
   "outputs": [
    {
     "name": "stdout",
     "output_type": "stream",
     "text": [
      "62\n"
     ]
    }
   ],
   "source": [
    "print(len(out['offset_mapping']))\n",
    "# for i in range(len(out['offset_mapping'])):\n",
    "#     print(len(out.sequence_ids(i)))"
   ]
  },
  {
   "cell_type": "code",
   "execution_count": 14,
   "id": "ee5f04a2",
   "metadata": {},
   "outputs": [
    {
     "name": "stdout",
     "output_type": "stream",
     "text": [
      "<s> <s> right\n"
     ]
    }
   ],
   "source": [
    "print(tokenizer.cls_token, tokenizer.bos_token, tokenizer.padding_side)"
   ]
  },
  {
   "cell_type": "code",
   "execution_count": 15,
   "id": "c7aaa628",
   "metadata": {},
   "outputs": [
    {
     "name": "stdout",
     "output_type": "stream",
     "text": [
      "62\n"
     ]
    }
   ],
   "source": [
    "print(len(out['input_ids']))"
   ]
  },
  {
   "cell_type": "code",
   "execution_count": 16,
   "id": "36abbe80",
   "metadata": {},
   "outputs": [],
   "source": [
    "# print(tokenizer.decode(out['input_ids'][0]))\n",
    "# print(tokenizer.decode(out['input_ids'][1]))\n",
    "# print(tokenizer.decode(out['input_ids'][2]))"
   ]
  },
  {
   "cell_type": "code",
   "execution_count": 17,
   "id": "f4abcb9b",
   "metadata": {},
   "outputs": [
    {
     "name": "stdout",
     "output_type": "stream",
     "text": [
      "[0, 0, 0, 0, 0, 0, 1, 1, 1, 1, 2, 2, 2, 2, 2, 2, 2, 2, 2, 2, 2, 2, 2, 2, 2, 2, 2, 2, 2, 2, 2, 2, 2, 2, 2, 2, 2, 2, 2, 2, 2, 2, 2, 2, 2, 2, 2, 2, 2, 2, 2, 2, 2, 2, 2, 2, 2, 2, 2, 2, 2, 2] <class 'list'>\n"
     ]
    }
   ],
   "source": [
    "map_x2context_idx = out['overflow_to_sample_mapping']\n",
    "print(map_x2context_idx, type(map_x2context_idx))"
   ]
  },
  {
   "cell_type": "code",
   "execution_count": 18,
   "id": "10cd45cd",
   "metadata": {},
   "outputs": [],
   "source": [
    "map_offset = out['offset_mapping']"
   ]
  },
  {
   "cell_type": "code",
   "execution_count": 19,
   "id": "fe523d69",
   "metadata": {},
   "outputs": [
    {
     "data": {
      "text/plain": [
       "36"
      ]
     },
     "execution_count": 19,
     "metadata": {},
     "output_type": "execute_result"
    }
   ],
   "source": [
    "idx = random.randint(0, len(out['input_ids']))\n",
    "idx"
   ]
  },
  {
   "cell_type": "code",
   "execution_count": 20,
   "id": "37997b34",
   "metadata": {},
   "outputs": [
    {
     "name": "stdout",
     "output_type": "stream",
     "text": [
      "36 2 384\n"
     ]
    }
   ],
   "source": [
    "x_idx = out['input_ids'][idx]\n",
    "x_context_idx = map_x2context_idx[idx]\n",
    "print(idx, x_context_idx, len(x_idx))"
   ]
  },
  {
   "cell_type": "code",
   "execution_count": 21,
   "id": "4ee55ba7",
   "metadata": {},
   "outputs": [],
   "source": [
    "x_x1_x2 = out.sequence_ids(idx) # sequence ids"
   ]
  },
  {
   "cell_type": "code",
   "execution_count": 22,
   "id": "bdd62b47",
   "metadata": {},
   "outputs": [],
   "source": [
    "# tokenizer.decode(x_idx)"
   ]
  },
  {
   "cell_type": "code",
   "execution_count": 23,
   "id": "b1a74cc7",
   "metadata": {},
   "outputs": [
    {
     "name": "stdout",
     "output_type": "stream",
     "text": [
      "सिल्वर स्प्रिंग, मैरीलैंड\n",
      "1092\n"
     ]
    }
   ],
   "source": [
    "answer_start = train_df.loc[x_context_idx, 'answer_start']\n",
    "answer = train_df.loc[x_context_idx, 'answer_text']\n",
    "print(answer)\n",
    "print(answer_start)"
   ]
  },
  {
   "cell_type": "code",
   "execution_count": 24,
   "id": "213c81ac",
   "metadata": {},
   "outputs": [
    {
     "data": {
      "text/plain": [
       "0"
      ]
     },
     "execution_count": 24,
     "metadata": {},
     "output_type": "execute_result"
    }
   ],
   "source": [
    "cls_idx = x_idx.index(tokenizer.cls_token_id)\n",
    "cls_idx"
   ]
  },
  {
   "cell_type": "code",
   "execution_count": 25,
   "id": "67d570be",
   "metadata": {},
   "outputs": [],
   "source": [
    "y_start_char = train_df.loc[x_context_idx, 'answer_start']\n",
    "y_end_char = train_df.loc[x_context_idx, 'answer_start'] + len(train_df.loc[x_context_idx, 'answer_text']) # note it is one char ahead"
   ]
  },
  {
   "cell_type": "code",
   "execution_count": null,
   "id": "89d833a3",
   "metadata": {},
   "outputs": [],
   "source": []
  },
  {
   "cell_type": "code",
   "execution_count": null,
   "id": "379b15dc",
   "metadata": {},
   "outputs": [],
   "source": []
  },
  {
   "cell_type": "code",
   "execution_count": null,
   "id": "260ae138",
   "metadata": {},
   "outputs": [],
   "source": []
  },
  {
   "cell_type": "code",
   "execution_count": null,
   "id": "4babab9a",
   "metadata": {},
   "outputs": [],
   "source": []
  },
  {
   "cell_type": "code",
   "execution_count": null,
   "id": "abaadf2e",
   "metadata": {},
   "outputs": [],
   "source": []
  },
  {
   "cell_type": "code",
   "execution_count": null,
   "id": "af7d741c",
   "metadata": {},
   "outputs": [],
   "source": []
  },
  {
   "cell_type": "code",
   "execution_count": null,
   "id": "4bfa7dee",
   "metadata": {},
   "outputs": [],
   "source": []
  },
  {
   "cell_type": "code",
   "execution_count": null,
   "id": "1b9eac14",
   "metadata": {},
   "outputs": [],
   "source": []
  },
  {
   "cell_type": "markdown",
   "id": "1ac9f67d",
   "metadata": {},
   "source": [
    "### Data pipeline"
   ]
  },
  {
   "cell_type": "code",
   "execution_count": null,
   "id": "8de06599",
   "metadata": {},
   "outputs": [],
   "source": [
    "def process_chaii(data_df, tokenizer, train, test):\n",
    "    # strip trailing and leading whitespaces in context, question, and (answer_text)?\n",
    "    data_df.loc[:, 'context'] = data_df.loc[:, 'context'].apply(lambda sen : str(sen).strip())\n",
    "    data_df.loc[:, 'question'] = data_df.loc[:, 'question'].apply(lambda sen : str(sen).strip())\n",
    "    if test == False:\n",
    "        data_df.loc[:, 'answer_text'] = data_df.loc[:, 'answer_text'].apply(lambda sen : str(sen).strip())\n",
    "    \n",
    "    "
   ]
  },
  {
   "cell_type": "code",
   "execution_count": null,
   "id": "e6d0c33b",
   "metadata": {},
   "outputs": [],
   "source": [
    "class chaii_ka_data(Dataset):\n",
    "    def __init__(self, data_df, tokenizer, train=True, test=False):\n",
    "        super(chaii_ka_data, self).__init__()\n",
    "        '''\n",
    "            train = True means train, train = False means val set; test = True means test set (without labels)\n",
    "            data_df is the pandas dataframe containing context, question, ...        \n",
    "        '''\n",
    "        self.train = train\n",
    "        self.test = test\n",
    "        \n",
    "        # tokenize data samples context;question, and create new samples if overflow\n",
    "        self.data = process_chaii(data_df, tokenizer, train, test)\n",
    "    \n",
    "    def __getitem__(self, index):\n",
    "        pass\n",
    "    \n",
    "    def __len__(self):\n",
    "        pass"
   ]
  },
  {
   "cell_type": "code",
   "execution_count": null,
   "id": "158e4a9c",
   "metadata": {},
   "outputs": [],
   "source": []
  },
  {
   "cell_type": "code",
   "execution_count": null,
   "id": "55c1394a",
   "metadata": {},
   "outputs": [],
   "source": []
  },
  {
   "cell_type": "markdown",
   "id": "3970894d",
   "metadata": {},
   "source": [
    "### model"
   ]
  },
  {
   "cell_type": "code",
   "execution_count": null,
   "id": "6082500c",
   "metadata": {},
   "outputs": [],
   "source": []
  },
  {
   "cell_type": "code",
   "execution_count": null,
   "id": "13a4369d",
   "metadata": {},
   "outputs": [],
   "source": []
  },
  {
   "cell_type": "code",
   "execution_count": null,
   "id": "f4604cdf",
   "metadata": {},
   "outputs": [],
   "source": []
  },
  {
   "cell_type": "code",
   "execution_count": null,
   "id": "ac481e48",
   "metadata": {},
   "outputs": [],
   "source": []
  },
  {
   "cell_type": "code",
   "execution_count": null,
   "id": "3ed2c87f",
   "metadata": {},
   "outputs": [],
   "source": []
  },
  {
   "cell_type": "markdown",
   "id": "bd2dc2a2",
   "metadata": {},
   "source": [
    "### training"
   ]
  },
  {
   "cell_type": "code",
   "execution_count": 27,
   "id": "ad261610",
   "metadata": {},
   "outputs": [
    {
     "data": {
      "application/vnd.jupyter.widget-view+json": {
       "model_id": "59167fed0aba47abb447a2f411b94303",
       "version_major": 2,
       "version_minor": 0
      },
      "text/plain": [
       "Downloading:   0%|          | 0.00/2.09G [00:00<?, ?B/s]"
      ]
     },
     "metadata": {},
     "output_type": "display_data"
    }
   ],
   "source": [
    "model = AutoModelForQuestionAnswering.from_pretrained(hyperparams.model_name)"
   ]
  },
  {
   "cell_type": "markdown",
   "id": "7af9a1cc",
   "metadata": {},
   "source": [
    "### evaluation"
   ]
  },
  {
   "cell_type": "code",
   "execution_count": null,
   "id": "6ad3a35f",
   "metadata": {},
   "outputs": [],
   "source": []
  },
  {
   "cell_type": "code",
   "execution_count": null,
   "id": "8b368850",
   "metadata": {},
   "outputs": [],
   "source": []
  },
  {
   "cell_type": "code",
   "execution_count": null,
   "id": "43fc0ec9",
   "metadata": {},
   "outputs": [],
   "source": []
  },
  {
   "cell_type": "code",
   "execution_count": null,
   "id": "7f5773e7",
   "metadata": {},
   "outputs": [],
   "source": []
  },
  {
   "cell_type": "markdown",
   "id": "aff96daa",
   "metadata": {},
   "source": [
    "### references\n",
    "1. https://github.com/huggingface/notebooks/blob/master/examples/question_answering.ipynb\n",
    "2. https://huggingface.co/transformers/internal/tokenization_utils.html#transformers.tokenization_utils_base.PreTrainedTokenizerBase.__call__"
   ]
  },
  {
   "cell_type": "code",
   "execution_count": null,
   "id": "4795681b",
   "metadata": {},
   "outputs": [],
   "source": []
  },
  {
   "cell_type": "code",
   "execution_count": null,
   "id": "d8b71625",
   "metadata": {},
   "outputs": [],
   "source": []
  }
 ],
 "metadata": {
  "kernelspec": {
   "display_name": "Python 3",
   "language": "python",
   "name": "python3"
  },
  "language_info": {
   "codemirror_mode": {
    "name": "ipython",
    "version": 3
   },
   "file_extension": ".py",
   "mimetype": "text/x-python",
   "name": "python",
   "nbconvert_exporter": "python",
   "pygments_lexer": "ipython3",
   "version": "3.6.13"
  }
 },
 "nbformat": 4,
 "nbformat_minor": 5
}
