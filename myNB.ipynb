{
 "cells": [
  {
   "cell_type": "markdown",
   "id": "3a77c3fb",
   "metadata": {},
   "source": [
    "### one time installations"
   ]
  },
  {
   "cell_type": "code",
   "execution_count": 3,
   "id": "a73e60a7",
   "metadata": {},
   "outputs": [],
   "source": [
    "# !gdown --id 1pb7gEkctrVrJA79EAIo7H7nuzD6uV1fW\n",
    "# !gdown --id 1oIeAE9HXXKWPcYa-AZ0ht5ef6sKe_Vh_\n",
    "# !gdown --id 10rAuIDvsYR2yDiCqP7GmYGPc-UmtLbJb"
   ]
  },
  {
   "cell_type": "code",
   "execution_count": 4,
   "id": "fd5a3a2b",
   "metadata": {},
   "outputs": [],
   "source": [
    "# !pip install --quiet transformers\n",
    "# !pip install --quiet datasets \n",
    "# !pip install --quiet SentencePiece\n",
    "# !pip install --quiet pytorch-lightning"
   ]
  },
  {
   "cell_type": "markdown",
   "id": "19666272",
   "metadata": {},
   "source": [
    "### libraries"
   ]
  },
  {
   "cell_type": "code",
   "execution_count": 5,
   "id": "0371301c",
   "metadata": {},
   "outputs": [],
   "source": [
    "import pandas as pd"
   ]
  },
  {
   "cell_type": "markdown",
   "id": "ce5bb0eb",
   "metadata": {},
   "source": [
    "### data "
   ]
  },
  {
   "cell_type": "code",
   "execution_count": 15,
   "id": "d9dc0e63",
   "metadata": {},
   "outputs": [],
   "source": [
    "train_df = pd.read_csv('train.csv', encoding='utf-8')\n",
    "# test_df = pd.read_csv('test.csv')\n",
    "# sample_df = pd.read_csv('sample_submission.csv')"
   ]
  },
  {
   "cell_type": "code",
   "execution_count": 16,
   "id": "af9d2cf9",
   "metadata": {},
   "outputs": [
    {
     "data": {
      "text/html": [
       "<div>\n",
       "<style scoped>\n",
       "    .dataframe tbody tr th:only-of-type {\n",
       "        vertical-align: middle;\n",
       "    }\n",
       "\n",
       "    .dataframe tbody tr th {\n",
       "        vertical-align: top;\n",
       "    }\n",
       "\n",
       "    .dataframe thead th {\n",
       "        text-align: right;\n",
       "    }\n",
       "</style>\n",
       "<table border=\"1\" class=\"dataframe\">\n",
       "  <thead>\n",
       "    <tr style=\"text-align: right;\">\n",
       "      <th></th>\n",
       "      <th>id</th>\n",
       "      <th>context</th>\n",
       "      <th>question</th>\n",
       "      <th>answer_text</th>\n",
       "      <th>answer_start</th>\n",
       "      <th>language</th>\n",
       "    </tr>\n",
       "  </thead>\n",
       "  <tbody>\n",
       "    <tr>\n",
       "      <th>0</th>\n",
       "      <td>903deec17</td>\n",
       "      <td>ஒரு சாதாரண வளர்ந்த மனிதனுடைய எலும்புக்கூடு பின...</td>\n",
       "      <td>மனித உடலில் எத்தனை எலும்புகள் உள்ளன?</td>\n",
       "      <td>206</td>\n",
       "      <td>53</td>\n",
       "      <td>tamil</td>\n",
       "    </tr>\n",
       "    <tr>\n",
       "      <th>1</th>\n",
       "      <td>d9841668c</td>\n",
       "      <td>காளிதாசன் (தேவநாகரி: कालिदास) சமஸ்கிருத இலக்கி...</td>\n",
       "      <td>காளிதாசன் எங்கு பிறந்தார்?</td>\n",
       "      <td>காசுமீரில்</td>\n",
       "      <td>2358</td>\n",
       "      <td>tamil</td>\n",
       "    </tr>\n",
       "    <tr>\n",
       "      <th>2</th>\n",
       "      <td>29d154b56</td>\n",
       "      <td>சர் அலெக்ஸாண்டர் ஃபிளெமிங் (Sir Alexander Flem...</td>\n",
       "      <td>பென்சிலின் கண்டுபிடித்தவர் யார்?</td>\n",
       "      <td>சர் அலெக்ஸாண்டர் ஃபிளெமிங்</td>\n",
       "      <td>0</td>\n",
       "      <td>tamil</td>\n",
       "    </tr>\n",
       "    <tr>\n",
       "      <th>3</th>\n",
       "      <td>41660850a</td>\n",
       "      <td>குழந்தையின் அழுகையை  நிறுத்தவும், தூங்க வைக்கவ...</td>\n",
       "      <td>தமிழ்நாட்டில் குழந்தைகளை தூங்க வைக்க பாடும் பா...</td>\n",
       "      <td>தாலாட்டு</td>\n",
       "      <td>68</td>\n",
       "      <td>tamil</td>\n",
       "    </tr>\n",
       "    <tr>\n",
       "      <th>4</th>\n",
       "      <td>b29c82c22</td>\n",
       "      <td>சூரியக் குடும்பம் \\nசூரியக் குடும்பம் (Solar S...</td>\n",
       "      <td>பூமியின் அருகில் உள்ள விண்மீன் எது?</td>\n",
       "      <td>சூரியனும்</td>\n",
       "      <td>585</td>\n",
       "      <td>tamil</td>\n",
       "    </tr>\n",
       "    <tr>\n",
       "      <th>...</th>\n",
       "      <td>...</td>\n",
       "      <td>...</td>\n",
       "      <td>...</td>\n",
       "      <td>...</td>\n",
       "      <td>...</td>\n",
       "      <td>...</td>\n",
       "    </tr>\n",
       "    <tr>\n",
       "      <th>1109</th>\n",
       "      <td>26f356026</td>\n",
       "      <td>स्वामी निगमानन्द परमहंस (18 अगस्त 1880 - 29 नव...</td>\n",
       "      <td>स्वामी निगमानन्द परमहंस के तन्त्र गुरु कौन थे?</td>\n",
       "      <td>बामाक्षेपा</td>\n",
       "      <td>2691</td>\n",
       "      <td>hindi</td>\n",
       "    </tr>\n",
       "    <tr>\n",
       "      <th>1110</th>\n",
       "      <td>31179f1bb</td>\n",
       "      <td>भरत मुनि ने नाट्यशास्त्र नामक प्रसिद्ध ग्रन्थ ...</td>\n",
       "      <td>नित्यशास्त्र किसने लिखा है?</td>\n",
       "      <td>भरत मुनि</td>\n",
       "      <td>0</td>\n",
       "      <td>hindi</td>\n",
       "    </tr>\n",
       "    <tr>\n",
       "      <th>1111</th>\n",
       "      <td>0d35dc007</td>\n",
       "      <td>अग्नि पंचम (अग्नि-५) भारत की अन्तरमहाद्वीपीय ब...</td>\n",
       "      <td>अग्नि पंचम(५) मिसाइल की लम्बाई कितने मीटर है?</td>\n",
       "      <td>17</td>\n",
       "      <td>155</td>\n",
       "      <td>hindi</td>\n",
       "    </tr>\n",
       "    <tr>\n",
       "      <th>1112</th>\n",
       "      <td>7f997884d</td>\n",
       "      <td>जलाल उद्दीन मोहम्मद अकबर () (१५ अक्तूबर, १५४२-...</td>\n",
       "      <td>मुगल सम्राट अकबर की मृत्यु किस वर्ष में हुई थी?</td>\n",
       "      <td>२७ अक्तूबर, १६०५</td>\n",
       "      <td>46</td>\n",
       "      <td>hindi</td>\n",
       "    </tr>\n",
       "    <tr>\n",
       "      <th>1113</th>\n",
       "      <td>ee569fe45</td>\n",
       "      <td>अमेरिका में जन्मीं अभिनेत्री तथा फैशन डिज़ाइनर...</td>\n",
       "      <td>लीजा रे की पहली फिल्म का नाम क्या था?</td>\n",
       "      <td>नेताजी</td>\n",
       "      <td>2017</td>\n",
       "      <td>hindi</td>\n",
       "    </tr>\n",
       "  </tbody>\n",
       "</table>\n",
       "<p>1114 rows × 6 columns</p>\n",
       "</div>"
      ],
      "text/plain": [
       "             id                                            context  \\\n",
       "0     903deec17  ஒரு சாதாரண வளர்ந்த மனிதனுடைய எலும்புக்கூடு பின...   \n",
       "1     d9841668c  காளிதாசன் (தேவநாகரி: कालिदास) சமஸ்கிருத இலக்கி...   \n",
       "2     29d154b56  சர் அலெக்ஸாண்டர் ஃபிளெமிங் (Sir Alexander Flem...   \n",
       "3     41660850a  குழந்தையின் அழுகையை  நிறுத்தவும், தூங்க வைக்கவ...   \n",
       "4     b29c82c22  சூரியக் குடும்பம் \\nசூரியக் குடும்பம் (Solar S...   \n",
       "...         ...                                                ...   \n",
       "1109  26f356026  स्वामी निगमानन्द परमहंस (18 अगस्त 1880 - 29 नव...   \n",
       "1110  31179f1bb  भरत मुनि ने नाट्यशास्त्र नामक प्रसिद्ध ग्रन्थ ...   \n",
       "1111  0d35dc007  अग्नि पंचम (अग्नि-५) भारत की अन्तरमहाद्वीपीय ब...   \n",
       "1112  7f997884d  जलाल उद्दीन मोहम्मद अकबर () (१५ अक्तूबर, १५४२-...   \n",
       "1113  ee569fe45  अमेरिका में जन्मीं अभिनेत्री तथा फैशन डिज़ाइनर...   \n",
       "\n",
       "                                               question  \\\n",
       "0                  மனித உடலில் எத்தனை எலும்புகள் உள்ளன?   \n",
       "1                            காளிதாசன் எங்கு பிறந்தார்?   \n",
       "2                      பென்சிலின் கண்டுபிடித்தவர் யார்?   \n",
       "3     தமிழ்நாட்டில் குழந்தைகளை தூங்க வைக்க பாடும் பா...   \n",
       "4                   பூமியின் அருகில் உள்ள விண்மீன் எது?   \n",
       "...                                                 ...   \n",
       "1109     स्वामी निगमानन्द परमहंस के तन्त्र गुरु कौन थे?   \n",
       "1110                        नित्यशास्त्र किसने लिखा है?   \n",
       "1111      अग्नि पंचम(५) मिसाइल की लम्बाई कितने मीटर है?   \n",
       "1112    मुगल सम्राट अकबर की मृत्यु किस वर्ष में हुई थी?   \n",
       "1113              लीजा रे की पहली फिल्म का नाम क्या था?   \n",
       "\n",
       "                     answer_text  answer_start language  \n",
       "0                            206            53    tamil  \n",
       "1                     காசுமீரில்          2358    tamil  \n",
       "2     சர் அலெக்ஸாண்டர் ஃபிளெமிங்             0    tamil  \n",
       "3                       தாலாட்டு            68    tamil  \n",
       "4                      சூரியனும்           585    tamil  \n",
       "...                          ...           ...      ...  \n",
       "1109                  बामाक्षेपा          2691    hindi  \n",
       "1110                    भरत मुनि             0    hindi  \n",
       "1111                          17           155    hindi  \n",
       "1112            २७ अक्तूबर, १६०५            46    hindi  \n",
       "1113                      नेताजी          2017    hindi  \n",
       "\n",
       "[1114 rows x 6 columns]"
      ]
     },
     "execution_count": 16,
     "metadata": {},
     "output_type": "execute_result"
    }
   ],
   "source": [
    "train_df"
   ]
  },
  {
   "cell_type": "code",
   "execution_count": null,
   "id": "518bc0bf",
   "metadata": {},
   "outputs": [],
   "source": []
  },
  {
   "cell_type": "code",
   "execution_count": null,
   "id": "fa4791e4",
   "metadata": {},
   "outputs": [],
   "source": []
  },
  {
   "cell_type": "markdown",
   "id": "65abb2c8",
   "metadata": {},
   "source": [
    "### model"
   ]
  },
  {
   "cell_type": "code",
   "execution_count": null,
   "id": "f5f2b351",
   "metadata": {},
   "outputs": [],
   "source": []
  },
  {
   "cell_type": "code",
   "execution_count": null,
   "id": "9ba5e245",
   "metadata": {},
   "outputs": [],
   "source": []
  },
  {
   "cell_type": "code",
   "execution_count": null,
   "id": "4b3c20cb",
   "metadata": {},
   "outputs": [],
   "source": []
  },
  {
   "cell_type": "markdown",
   "id": "45c1ea18",
   "metadata": {},
   "source": [
    "### training"
   ]
  },
  {
   "cell_type": "code",
   "execution_count": null,
   "id": "31e84207",
   "metadata": {},
   "outputs": [],
   "source": []
  },
  {
   "cell_type": "code",
   "execution_count": null,
   "id": "36d51be4",
   "metadata": {},
   "outputs": [],
   "source": []
  },
  {
   "cell_type": "code",
   "execution_count": null,
   "id": "79b0cb4b",
   "metadata": {},
   "outputs": [],
   "source": []
  },
  {
   "cell_type": "code",
   "execution_count": null,
   "id": "4b526238",
   "metadata": {},
   "outputs": [],
   "source": []
  }
 ],
 "metadata": {
  "kernelspec": {
   "display_name": "Python 3",
   "language": "python",
   "name": "python3"
  },
  "language_info": {
   "codemirror_mode": {
    "name": "ipython",
    "version": 3
   },
   "file_extension": ".py",
   "mimetype": "text/x-python",
   "name": "python",
   "nbconvert_exporter": "python",
   "pygments_lexer": "ipython3",
   "version": "3.6.13"
  }
 },
 "nbformat": 4,
 "nbformat_minor": 5
}
